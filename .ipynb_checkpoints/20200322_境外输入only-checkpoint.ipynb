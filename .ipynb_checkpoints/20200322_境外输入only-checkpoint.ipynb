{
 "cells": [
  {
   "cell_type": "code",
   "execution_count": 1,
   "metadata": {},
   "outputs": [],
   "source": [
    "import pandas as pd\n",
    "import os\n",
    "import plotly\n",
    "from plotly.subplots import make_subplots\n",
    "import plotly.graph_objects as go\n",
    "import textwrap"
   ]
  },
  {
   "cell_type": "markdown",
   "metadata": {},
   "source": [
    "##### 1. 目前整理到444号境外输入病例。\n",
    "##### 2. oo_file为深圳市卫建委公众号病例通报内容+深圳市政府平台开放数据结合整理的表格。没有提供。"
   ]
  },
  {
   "cell_type": "code",
   "execution_count": 11,
   "metadata": {},
   "outputs": [
    {
     "data": {
      "text/html": [
       "<div>\n",
       "<style scoped>\n",
       "    .dataframe tbody tr th:only-of-type {\n",
       "        vertical-align: middle;\n",
       "    }\n",
       "\n",
       "    .dataframe tbody tr th {\n",
       "        vertical-align: top;\n",
       "    }\n",
       "\n",
       "    .dataframe thead th {\n",
       "        text-align: right;\n",
       "    }\n",
       "</style>\n",
       "<table border=\"1\" class=\"dataframe\">\n",
       "  <thead>\n",
       "    <tr style=\"text-align: right;\">\n",
       "      <th></th>\n",
       "      <th>2020-01-04 00:00:00</th>\n",
       "      <th>2020-01-05 00:00:00</th>\n",
       "      <th>2020-01-10 00:00:00</th>\n",
       "      <th>2020-01-12 00:00:00</th>\n",
       "      <th>2020-01-27 00:00:00</th>\n",
       "      <th>2020-02-07 00:00:00</th>\n",
       "      <th>2020-02-27 00:00:00</th>\n",
       "      <th>2020-02-28 00:00:00</th>\n",
       "      <th>2020-02-29 00:00:00</th>\n",
       "      <th>2020-03-01 00:00:00</th>\n",
       "      <th>...</th>\n",
       "      <th>2020-03-17 00:00:00</th>\n",
       "      <th>2020-03-18 00:00:00</th>\n",
       "      <th>2020-03-19 00:00:00</th>\n",
       "      <th>2020-03-20 00:00:00</th>\n",
       "      <th>2020-03-21 00:00:00</th>\n",
       "      <th>2020-03-22 00:00:00</th>\n",
       "      <th>2020-03-23 00:00:00</th>\n",
       "      <th>2020-03-24 00:00:00</th>\n",
       "      <th>2020-03-25 00:00:00</th>\n",
       "      <th>2020-03-26 00:00:00</th>\n",
       "    </tr>\n",
       "  </thead>\n",
       "  <tbody>\n",
       "    <tr>\n",
       "      <th>418</th>\n",
       "      <td>NaN</td>\n",
       "      <td>NaN</td>\n",
       "      <td>NaN</td>\n",
       "      <td>NaN</td>\n",
       "      <td>NaN</td>\n",
       "      <td>NaN</td>\n",
       "      <td>境外出行|伦敦飞香港(CX250)</td>\n",
       "      <td>境内抵达|13:27抵达香港机场; 15:30渡轮(3A109)从香港抵达深圳蛇口码头; 随...</td>\n",
       "      <td>发病|上午出现发热咳嗽，由其妻子送医院核酸初筛阳性</td>\n",
       "      <td>确诊|市疾控复核阳性</td>\n",
       "      <td>...</td>\n",
       "      <td>NaN</td>\n",
       "      <td>NaN</td>\n",
       "      <td>NaN</td>\n",
       "      <td>NaN</td>\n",
       "      <td>NaN</td>\n",
       "      <td>NaN</td>\n",
       "      <td>NaN</td>\n",
       "      <td>NaN</td>\n",
       "      <td>NaN</td>\n",
       "      <td>NaN</td>\n",
       "    </tr>\n",
       "    <tr>\n",
       "      <th>419</th>\n",
       "      <td>NaN</td>\n",
       "      <td>NaN</td>\n",
       "      <td>境外出行|前往西班牙旅游</td>\n",
       "      <td>NaN</td>\n",
       "      <td>NaN</td>\n",
       "      <td>NaN</td>\n",
       "      <td>NaN</td>\n",
       "      <td>NaN</td>\n",
       "      <td>NaN</td>\n",
       "      <td>境外出行|西班牙飞中国(EY0050); 于阿联酋转机(EY0888)</td>\n",
       "      <td>...</td>\n",
       "      <td>NaN</td>\n",
       "      <td>NaN</td>\n",
       "      <td>NaN</td>\n",
       "      <td>NaN</td>\n",
       "      <td>NaN</td>\n",
       "      <td>NaN</td>\n",
       "      <td>NaN</td>\n",
       "      <td>NaN</td>\n",
       "      <td>NaN</td>\n",
       "      <td>NaN</td>\n",
       "    </tr>\n",
       "    <tr>\n",
       "      <th>420</th>\n",
       "      <td>NaN</td>\n",
       "      <td>NaN</td>\n",
       "      <td>NaN</td>\n",
       "      <td>NaN</td>\n",
       "      <td>NaN</td>\n",
       "      <td>境外出行|出差前往香港飞法国巴黎(CX261), 自述同事有发热症状</td>\n",
       "      <td>NaN</td>\n",
       "      <td>NaN</td>\n",
       "      <td>NaN</td>\n",
       "      <td>NaN</td>\n",
       "      <td>...</td>\n",
       "      <td>NaN</td>\n",
       "      <td>NaN</td>\n",
       "      <td>NaN</td>\n",
       "      <td>NaN</td>\n",
       "      <td>NaN</td>\n",
       "      <td>NaN</td>\n",
       "      <td>NaN</td>\n",
       "      <td>NaN</td>\n",
       "      <td>NaN</td>\n",
       "      <td>NaN</td>\n",
       "    </tr>\n",
       "    <tr>\n",
       "      <th>421</th>\n",
       "      <td>NaN</td>\n",
       "      <td>NaN</td>\n",
       "      <td>NaN</td>\n",
       "      <td>NaN</td>\n",
       "      <td>NaN</td>\n",
       "      <td>NaN</td>\n",
       "      <td>NaN</td>\n",
       "      <td>NaN</td>\n",
       "      <td>NaN</td>\n",
       "      <td>NaN</td>\n",
       "      <td>...</td>\n",
       "      <td>NaN</td>\n",
       "      <td>NaN</td>\n",
       "      <td>NaN</td>\n",
       "      <td>NaN</td>\n",
       "      <td>NaN</td>\n",
       "      <td>NaN</td>\n",
       "      <td>NaN</td>\n",
       "      <td>NaN</td>\n",
       "      <td>NaN</td>\n",
       "      <td>NaN</td>\n",
       "    </tr>\n",
       "    <tr>\n",
       "      <th>422</th>\n",
       "      <td>境外出行|深圳经香港飞瑞士</td>\n",
       "      <td>NaN</td>\n",
       "      <td>NaN</td>\n",
       "      <td>NaN</td>\n",
       "      <td>NaN</td>\n",
       "      <td>NaN</td>\n",
       "      <td>NaN</td>\n",
       "      <td>NaN</td>\n",
       "      <td>NaN</td>\n",
       "      <td>NaN</td>\n",
       "      <td>...</td>\n",
       "      <td>NaN</td>\n",
       "      <td>NaN</td>\n",
       "      <td>NaN</td>\n",
       "      <td>NaN</td>\n",
       "      <td>NaN</td>\n",
       "      <td>NaN</td>\n",
       "      <td>NaN</td>\n",
       "      <td>NaN</td>\n",
       "      <td>NaN</td>\n",
       "      <td>NaN</td>\n",
       "    </tr>\n",
       "  </tbody>\n",
       "</table>\n",
       "<p>5 rows × 35 columns</p>\n",
       "</div>"
      ],
      "text/plain": [
       "        2020-01-04 2020-01-05    2020-01-10 2020-01-12 2020-01-27  \\\n",
       "418            NaN        NaN           NaN        NaN        NaN   \n",
       "419            NaN        NaN  境外出行|前往西班牙旅游        NaN        NaN   \n",
       "420            NaN        NaN           NaN        NaN        NaN   \n",
       "421            NaN        NaN           NaN        NaN        NaN   \n",
       "422  境外出行|深圳经香港飞瑞士        NaN           NaN        NaN        NaN   \n",
       "\n",
       "                             2020-02-07         2020-02-27  \\\n",
       "418                                 NaN  境外出行|伦敦飞香港(CX250)   \n",
       "419                                 NaN                NaN   \n",
       "420  境外出行|出差前往香港飞法国巴黎(CX261), 自述同事有发热症状                NaN   \n",
       "421                                 NaN                NaN   \n",
       "422                                 NaN                NaN   \n",
       "\n",
       "                                            2020-02-28  \\\n",
       "418  境内抵达|13:27抵达香港机场; 15:30渡轮(3A109)从香港抵达深圳蛇口码头; 随...   \n",
       "419                                                NaN   \n",
       "420                                                NaN   \n",
       "421                                                NaN   \n",
       "422                                                NaN   \n",
       "\n",
       "                    2020-02-29                           2020-03-01  \\\n",
       "418  发病|上午出现发热咳嗽，由其妻子送医院核酸初筛阳性                           确诊|市疾控复核阳性   \n",
       "419                        NaN  境外出行|西班牙飞中国(EY0050); 于阿联酋转机(EY0888)   \n",
       "420                        NaN                                  NaN   \n",
       "421                        NaN                                  NaN   \n",
       "422                        NaN                                  NaN   \n",
       "\n",
       "       ...     2020-03-17 2020-03-18 2020-03-19 2020-03-20 2020-03-21  \\\n",
       "418    ...            NaN        NaN        NaN        NaN        NaN   \n",
       "419    ...            NaN        NaN        NaN        NaN        NaN   \n",
       "420    ...            NaN        NaN        NaN        NaN        NaN   \n",
       "421    ...            NaN        NaN        NaN        NaN        NaN   \n",
       "422    ...            NaN        NaN        NaN        NaN        NaN   \n",
       "\n",
       "    2020-03-22 2020-03-23 2020-03-24 2020-03-25 2020-03-26  \n",
       "418        NaN        NaN        NaN        NaN        NaN  \n",
       "419        NaN        NaN        NaN        NaN        NaN  \n",
       "420        NaN        NaN        NaN        NaN        NaN  \n",
       "421        NaN        NaN        NaN        NaN        NaN  \n",
       "422        NaN        NaN        NaN        NaN        NaN  \n",
       "\n",
       "[5 rows x 35 columns]"
      ]
     },
     "execution_count": 11,
     "metadata": {},
     "output_type": "execute_result"
    }
   ],
   "source": [
    "oo_file = 'C://Users//Chen Shuo//Documents//20200215_CoVtry//20200321//20200321_境外输入整理.xlsx'\n",
    "oo = pd.read_excel(oo_file).T\n",
    "oo.head()"
   ]
  },
  {
   "cell_type": "code",
   "execution_count": 12,
   "metadata": {},
   "outputs": [
    {
     "data": {
      "text/plain": [
       "2020-02-27                                    境外出行|伦敦飞香港(CX250)\n",
       "2020-02-28    境内抵达|13:27抵达香港机场; 15:30渡轮(3A109)从香港抵达深圳蛇口码头; 随...\n",
       "2020-02-29                            发病|上午出现发热咳嗽，由其妻子送医院核酸初筛阳性\n",
       "2020-03-01                                           确诊|市疾控复核阳性\n",
       "Name: 418, dtype: object"
      ]
     },
     "execution_count": 12,
     "metadata": {},
     "output_type": "execute_result"
    }
   ],
   "source": [
    "# 以418为例的个人轨迹\n",
    "temp = oo.loc[418,oo.loc[418,:].notnull()]\n",
    "temp\n",
    "# [temp.str.split('|')[i][0] for i in temp.index.tolist()]"
   ]
  },
  {
   "cell_type": "code",
   "execution_count": 13,
   "metadata": {},
   "outputs": [
    {
     "data": {
      "text/plain": [
       "2020-02-27                                境外出行|伦敦飞香港(CX2<br>50)\n",
       "2020-02-28    境内抵达|13:27抵达香港<br>机场; 15:30渡轮(3A<br>109)从香港抵达深...\n",
       "2020-02-29                        发病|上午出现发热咳嗽，由其<br>妻子送医院核酸初筛阳性\n",
       "2020-03-01                                           确诊|市疾控复核阳性\n",
       "Name: 418, dtype: object"
      ]
     },
     "execution_count": 13,
     "metadata": {},
     "output_type": "execute_result"
    }
   ],
   "source": [
    "# 把string分割开来，这样在plotly中显示不会太长一条\n",
    "temp.apply(lambda txt: '<br>'.join(textwrap.wrap(str(txt),width=14)))"
   ]
  },
  {
   "cell_type": "code",
   "execution_count": 19,
   "metadata": {},
   "outputs": [
    {
     "data": {
      "application/vnd.plotly.v1+json": {
       "config": {
        "plotlyServerURL": "https://plot.ly"
       },
       "data": [
        {
         "connectgaps": true,
         "hovertemplate": "<br><b>caseID</b>: %{y}<br><br>%{text}",
         "line": {
          "color": "rgb(231,107,243)",
          "width": 2
         },
         "marker": {
          "color": [
           "rgb(89,130,52)",
           "rgb(137,201,79)",
           "rgb(97,175,223)",
           "rgb(201,93,58)"
          ],
          "size": 6
         },
         "mode": "markers+lines",
         "name": "418",
         "showlegend": false,
         "text": [
          "境外出行|伦敦飞香港(CX2<br>50)",
          "境内抵达|13:27抵达香港<br>机场; 15:30渡轮(3A<br>109)从香港抵达深圳蛇口码<br>头; 随后打车回家;<br>全程佩戴口罩，居家未外出。",
          "发病|上午出现发热咳嗽，由其<br>妻子送医院核酸初筛阳性",
          "确诊|市疾控复核阳性"
         ],
         "type": "scatter",
         "x": [
          "2020-02-27T00:00:00",
          "2020-02-28T00:00:00",
          "2020-02-29T00:00:00",
          "2020-03-01T00:00:00"
         ],
         "y": [
          418,
          418,
          418,
          418
         ]
        },
        {
         "connectgaps": true,
         "hovertemplate": "<br><b>caseID</b>: %{y}<br><br>%{text}",
         "line": {
          "color": "rgb(231,107,243)",
          "width": 2
         },
         "marker": {
          "color": [
           "rgb(89,130,52)",
           "rgb(89,130,52)",
           "rgb(137,201,79)",
           "rgb(97,175,223)",
           "rgb(97,175,223)",
           "rgb(201,93,58)",
           "rgb(201,93,58)"
          ],
          "size": 6
         },
         "mode": "markers+lines",
         "name": "419",
         "showlegend": false,
         "text": [
          "境外出行|前往西班牙旅游",
          "境外出行|西班牙飞中国(EY<br>0050);<br>于阿联酋转机(EY0888)",
          "境内抵达|8时抵达北京首都机<br>场T3航站楼,当天返回深圳(<br>ZH9104)，其子驾车接回<br>家。",
          "发病|自述发热，体温37",
          "发病|医院就诊",
          "确诊|初筛结果阳性",
          "确诊|市疾控复核阳性"
         ],
         "type": "scatter",
         "x": [
          "2020-01-10T00:00:00",
          "2020-03-01T00:00:00",
          "2020-03-02T00:00:00",
          "2020-03-03T00:00:00",
          "2020-03-04T00:00:00",
          "2020-03-05T00:00:00",
          "2020-03-06T00:00:00"
         ],
         "y": [
          419,
          419,
          419,
          419,
          419,
          419,
          419
         ]
        },
        {
         "connectgaps": true,
         "hovertemplate": "<br><b>caseID</b>: %{y}<br><br>%{text}",
         "line": {
          "color": "rgb(231,107,243)",
          "width": 2
         },
         "marker": {
          "color": [
           "rgb(89,130,52)",
           "rgb(97,175,223)",
           "rgb(89,130,52)",
           "rgb(137,201,79)",
           "rgb(201,93,58)"
          ],
          "size": 6
         },
         "mode": "markers+lines",
         "name": "420",
         "showlegend": false,
         "text": [
          "境外出行|出差前往香港飞法国<br>巴黎(CX261),<br>自述同事有发热症状",
          "发病|出现发热咳嗽症状",
          "境外出行|法国巴黎返回香港(<br>CX260)",
          "境内抵达|乘坐香港的士到达深<br>圳湾口岸(UF1749),<br>体温正常,<br>根据出行史及症状送医就诊,<br>CT出现磨玻璃影; 初筛阳性",
          "确诊|市疾控复核阳性"
         ],
         "type": "scatter",
         "x": [
          "2020-02-07T00:00:00",
          "2020-03-02T00:00:00",
          "2020-03-09T00:00:00",
          "2020-03-10T00:00:00",
          "2020-03-11T00:00:00"
         ],
         "y": [
          420,
          420,
          420,
          420,
          420
         ]
        },
        {
         "connectgaps": true,
         "hovertemplate": "<br><b>caseID</b>: %{y}<br><br>%{text}",
         "line": {
          "color": "rgb(231,107,243)",
          "width": 2
         },
         "marker": {
          "color": [
           "rgb(97,175,223)",
           "rgb(137,201,79)",
           "rgb(201,93,58)"
          ],
          "size": 6
         },
         "mode": "markers+lines",
         "name": "421",
         "showlegend": false,
         "text": [
          "发病|出现咽痛症状",
          "境内抵达| 22:20从菲律<br>宾飞香港(CX902)，乘坐<br>香港的士前往深圳湾口岸，期间<br>佩戴口罩;<br>在深圳湾入境深圳，体温正常",
          "确诊|就医，CT显示双肺感染<br>，初筛阳性，下午深圳市疾控复<br>核阳性。"
         ],
         "type": "scatter",
         "x": [
          "2020-03-09T00:00:00",
          "2020-03-13T00:00:00",
          "2020-03-14T00:00:00"
         ],
         "y": [
          421,
          421,
          421
         ]
        },
        {
         "connectgaps": true,
         "hovertemplate": "<br><b>caseID</b>: %{y}<br><br>%{text}",
         "line": {
          "color": "rgb(231,107,243)",
          "width": 2
         },
         "marker": {
          "color": [
           "rgb(89,130,52)",
           "rgb(97,175,223)",
           "rgb(89,130,52)",
           "rgb(137,201,79)",
           "rgb(201,93,58)"
          ],
          "size": 6
         },
         "mode": "markers+lines",
         "name": "422",
         "showlegend": false,
         "text": [
          "境外出行|深圳经香港飞瑞士",
          "发病|自述喉咙痛，咳嗽，咳黄<br>痰，无发热",
          "境外出行|瑞士飞中国(CX3<br>82)",
          "境内抵达|到达香港国际机场，<br>乘坐商务车抵深圳湾口岸，全程<br>均佩戴口罩。送医，初筛阳性",
          "确诊|深圳市疾控复核阳性"
         ],
         "type": "scatter",
         "x": [
          "2020-01-04T00:00:00",
          "2020-03-11T00:00:00",
          "2020-03-13T00:00:00",
          "2020-03-14T00:00:00",
          "2020-03-15T00:00:00"
         ],
         "y": [
          422,
          422,
          422,
          422,
          422
         ]
        },
        {
         "connectgaps": true,
         "hovertemplate": "<br><b>caseID</b>: %{y}<br><br>%{text}",
         "line": {
          "color": "rgb(231,107,243)",
          "width": 2
         },
         "marker": {
          "color": [
           "rgb(97,175,223)",
           "rgb(97,175,223)",
           "rgb(97,175,223)",
           "rgb(97,175,223)",
           "rgb(137,201,79)",
           "rgb(201,93,58)"
          ],
          "size": 6
         },
         "mode": "markers+lines",
         "name": "423",
         "showlegend": false,
         "text": [
          "发病|自述发热",
          "发病|体温高达38.4，自行<br>服药",
          "发病|症状消失",
          "发病|再次发热",
          "境内抵达|菲律宾飞中国(KA<br>5930)，在香港机场乘坐的<br>士前往深圳湾口岸。体温正常，<br>海关留观。",
          "确诊|初筛阳性，海关复核阳性<br>，市疾控复核阳性"
         ],
         "type": "scatter",
         "x": [
          "2020-03-05T00:00:00",
          "2020-03-06T00:00:00",
          "2020-03-10T00:00:00",
          "2020-03-13T00:00:00",
          "2020-03-14T00:00:00",
          "2020-03-15T00:00:00"
         ],
         "y": [
          423,
          423,
          423,
          423,
          423,
          423
         ]
        },
        {
         "connectgaps": true,
         "hovertemplate": "<br><b>caseID</b>: %{y}<br><br>%{text}",
         "line": {
          "color": "rgb(231,107,243)",
          "width": 2
         },
         "marker": {
          "color": [
           "rgb(89,130,52)",
           "rgb(137,201,79)",
           "rgb(201,93,58)"
          ],
          "size": 6
         },
         "mode": "markers+lines",
         "name": "424",
         "showlegend": false,
         "text": [
          "境外出行|英国飞德国(LH9<br>15)，德国飞香港(LH79<br>6)，自述同排乘客咳嗽。",
          "境内抵达|到达香港机场，乘的<br>士前往深圳湾口岸，有发热，全<br>程佩戴口罩。",
          "确诊|初筛阳性，海关阳性，市<br>疾控复核阳性"
         ],
         "type": "scatter",
         "x": [
          "2020-03-14T00:00:00",
          "2020-03-15T00:00:00",
          "2020-03-16T00:00:00"
         ],
         "y": [
          424,
          424,
          424
         ]
        },
        {
         "connectgaps": true,
         "hovertemplate": "<br><b>caseID</b>: %{y}<br><br>%{text}",
         "line": {
          "color": "rgb(231,107,243)",
          "width": 2
         },
         "marker": {
          "color": [
           "rgb(89,130,52)",
           "rgb(89,130,52)",
           "rgb(137,201,79)",
           "rgb(137,201,79)",
           "rgb(201,93,58)"
          ],
          "size": 6
         },
         "mode": "markers+lines",
         "name": "425",
         "showlegend": false,
         "text": [
          "境外出行|从深圳前往荷兰休假",
          "境外出行|荷兰飞泰国(KL8<br>75)",
          "境内抵达|泰国飞深圳(CZ8<br>324)，全程除进餐均佩戴口<br>罩。",
          "境内抵达|采样后专车接回家居<br>家隔离，当天晚上初筛阳性。",
          "确诊|市疾控复核阳性"
         ],
         "type": "scatter",
         "x": [
          "2020-01-27T00:00:00",
          "2020-03-14T00:00:00",
          "2020-03-15T00:00:00",
          "2020-03-16T00:00:00",
          "2020-03-17T00:00:00"
         ],
         "y": [
          425,
          425,
          425,
          425,
          425
         ]
        },
        {
         "connectgaps": true,
         "hovertemplate": "<br><b>caseID</b>: %{y}<br><br>%{text}",
         "line": {
          "color": "rgb(231,107,243)",
          "width": 2
         },
         "marker": {
          "color": [
           "rgb(89,130,52)",
           "rgb(89,130,52)",
           "rgb(137,201,79)",
           "rgb(97,175,223)",
           "rgb(201,93,58)"
          ],
          "size": 6
         },
         "mode": "markers+lines",
         "name": "426",
         "showlegend": false,
         "text": [
          "境外出行|前往伦敦求学",
          "境外出行|伦敦飞芬兰(AY1<br>338)",
          "境内抵达|芬兰飞香港(AY0<br>99)，乘的士前往深圳湾口岸<br>，全程除进餐均戴口罩。当晚送<br>往集中隔离点入住。",
          "发病|采集咽拭子，出现低热",
          "确诊|初筛阳性，送院治疗。市<br>疾控复核阳性。"
         ],
         "type": "scatter",
         "x": [
          "2020-01-12T00:00:00",
          "2020-03-15T00:00:00",
          "2020-03-16T00:00:00",
          "2020-03-17T00:00:00",
          "2020-03-18T00:00:00"
         ],
         "y": [
          426,
          426,
          426,
          426,
          426
         ]
        },
        {
         "connectgaps": true,
         "hovertemplate": "<br><b>caseID</b>: %{y}<br><br>%{text}",
         "line": {
          "color": "rgb(231,107,243)",
          "width": 2
         },
         "marker": {
          "color": [
           "rgb(89,130,52)",
           "rgb(89,130,52)",
           "rgb(137,201,79)",
           "rgb(201,93,58)"
          ],
          "size": 6
         },
         "mode": "markers+lines",
         "name": "427",
         "showlegend": false,
         "text": [
          "境外出行|前往英国伦敦求学",
          "境外出行|英国飞新加坡(SQ<br>317)",
          "境内抵达|新加坡飞香港(SQ<br>856)，直通车转乘的士前往<br>深圳。自觉咳嗽乏力。海关留观<br>后送院。",
          "确诊|初筛阳性，市疾控复核阳<br>性。"
         ],
         "type": "scatter",
         "x": [
          "2020-01-05T00:00:00",
          "2020-03-16T00:00:00",
          "2020-03-17T00:00:00",
          "2020-03-18T00:00:00"
         ],
         "y": [
          427,
          427,
          427,
          427
         ]
        },
        {
         "connectgaps": true,
         "hovertemplate": "<br><b>caseID</b>: %{y}<br><br>%{text}",
         "line": {
          "color": "rgb(231,107,243)",
          "width": 2
         },
         "marker": {
          "color": [
           "rgb(89,130,52)",
           "rgb(137,201,79)",
           "rgb(97,175,223)",
           "rgb(201,93,58)"
          ],
          "size": 6
         },
         "mode": "markers+lines",
         "name": "428",
         "showlegend": false,
         "text": [
          "境外出行|法国飞德国(LH1<br>04)，德国飞香港(LH79<br>6)",
          "境内抵达|香港到深圳湾入境。<br>有咳嗽乏力症状",
          "发病|有咳嗽乏力等症状,<br>初筛阳性",
          "确诊|市疾控复核阳性"
         ],
         "type": "scatter",
         "x": [
          "2020-03-14T00:00:00",
          "2020-03-17T00:00:00",
          "2020-03-18T00:00:00",
          "2020-03-19T00:00:00"
         ],
         "y": [
          428,
          428,
          428,
          428
         ]
        },
        {
         "connectgaps": true,
         "hovertemplate": "<br><b>caseID</b>: %{y}<br><br>%{text}",
         "line": {
          "color": "rgb(231,107,243)",
          "width": 2
         },
         "marker": {
          "color": [
           "rgb(89,130,52)",
           "rgb(137,201,79)",
           "rgb(97,175,223)",
           "rgb(201,93,58)"
          ],
          "size": 6
         },
         "mode": "markers+lines",
         "name": "429",
         "showlegend": false,
         "text": [
          "境外出行|法国飞中国广州(C<br>Z348)",
          "境内抵达|抵达广州，入境后专<br>车送往(深圳?)隔离观察",
          "发病|自述头痛，轻微咳嗽，初<br>筛阳性",
          "确诊|市疾控复核阳性"
         ],
         "type": "scatter",
         "x": [
          "2020-03-16T00:00:00",
          "2020-03-17T00:00:00",
          "2020-03-18T00:00:00",
          "2020-03-19T00:00:00"
         ],
         "y": [
          429,
          429,
          429,
          429
         ]
        },
        {
         "connectgaps": true,
         "hovertemplate": "<br><b>caseID</b>: %{y}<br><br>%{text}",
         "line": {
          "color": "rgb(231,107,243)",
          "width": 2
         },
         "marker": {
          "color": [
           "rgb(89,130,52)",
           "rgb(137,201,79)",
           "rgb(201,93,58)"
          ],
          "size": 6
         },
         "mode": "markers+lines",
         "name": "430",
         "showlegend": false,
         "text": [
          "境外出行|美国纳什维尔飞美国<br>芝加哥(AA3203)，美国<br>飞香港(CX807)",
          "境内抵达|从香港到深圳湾口岸<br>入境，体温正常，隔离观察",
          "确诊|初筛阳性，市疾控复核阳<br>性"
         ],
         "type": "scatter",
         "x": [
          "2020-03-16T00:00:00",
          "2020-03-17T00:00:00",
          "2020-03-19T00:00:00"
         ],
         "y": [
          430,
          430,
          430
         ]
        },
        {
         "connectgaps": true,
         "hovertemplate": "<br><b>caseID</b>: %{y}<br><br>%{text}",
         "line": {
          "color": "rgb(231,107,243)",
          "width": 2
         },
         "marker": {
          "color": [
           "rgb(89,130,52)",
           "rgb(137,201,79)",
           "rgb(201,93,58)"
          ],
          "size": 6
         },
         "mode": "markers+lines",
         "name": "431",
         "showlegend": false,
         "text": [
          "境外出行|英国飞迪拜(EK0<br>06)，迪拜飞香港(EK38<br>0)",
          "境内抵达|抵达香港，经深圳湾<br>口岸入境，体温正常，隔离观察",
          "确诊|初筛阳性，深圳市疾控复<br>核阳性"
         ],
         "type": "scatter",
         "x": [
          "2020-03-17T00:00:00",
          "2020-03-18T00:00:00",
          "2020-03-19T00:00:00"
         ],
         "y": [
          431,
          431,
          431
         ]
        },
        {
         "connectgaps": true,
         "hovertemplate": "<br><b>caseID</b>: %{y}<br><br>%{text}",
         "line": {
          "color": "rgb(231,107,243)",
          "width": 2
         },
         "marker": {
          "color": [
           "rgb(89,130,52)",
           "rgb(137,201,79)",
           "rgb(201,93,58)"
          ],
          "size": 6
         },
         "mode": "markers+lines",
         "name": "432",
         "showlegend": false,
         "text": [
          "境外出行|英国飞迪拜(EK0<br>04)，迪拜飞香港(EK38<br>0)",
          "境内抵达|抵达香港，经深圳湾<br>口岸入境，有发热(37.5)<br>，送院。",
          "确诊|初筛阳性，深圳市疾控复<br>核阳性"
         ],
         "type": "scatter",
         "x": [
          "2020-03-17T00:00:00",
          "2020-03-18T00:00:00",
          "2020-03-19T00:00:00"
         ],
         "y": [
          432,
          432,
          432
         ]
        },
        {
         "connectgaps": true,
         "hovertemplate": "<br><b>caseID</b>: %{y}<br><br>%{text}",
         "line": {
          "color": "rgb(231,107,243)",
          "width": 2
         },
         "marker": {
          "color": [
           "rgb(137,201,79)",
           "rgb(201,93,58)"
          ],
          "size": 6
         },
         "mode": "markers+lines",
         "name": "433",
         "showlegend": false,
         "text": [
          "境内抵达|菲律宾飞香港(CX<br>930)，深圳湾口岸入境，有<br>发热(37.5)。曾出现寒战<br>乏力腹泻。(境外出行，境内抵<br>达，发病同一天)",
          "确诊|初筛及复核均阳性"
         ],
         "type": "scatter",
         "x": [
          "2020-03-18T00:00:00",
          "2020-03-20T00:00:00"
         ],
         "y": [
          433,
          433
         ]
        },
        {
         "connectgaps": true,
         "hovertemplate": "<br><b>caseID</b>: %{y}<br><br>%{text}",
         "line": {
          "color": "rgb(231,107,243)",
          "width": 2
         },
         "marker": {
          "color": [
           "rgb(89,130,52)",
           "rgb(89,130,52)",
           "rgb(137,201,79)",
           "rgb(201,93,58)"
          ],
          "size": 6
         },
         "mode": "markers+lines",
         "name": "434",
         "showlegend": false,
         "text": [
          "境外出行|英国飞新加坡(BA<br>011)",
          "境外出行|抵达新加坡",
          "境内抵达|新加坡飞香港(CX<br>658)，入境自动测温37.<br>5，水银复测37.1",
          "确诊|初筛复核均阳性"
         ],
         "type": "scatter",
         "x": [
          "2020-03-16T00:00:00",
          "2020-03-17T00:00:00",
          "2020-03-18T00:00:00",
          "2020-03-20T00:00:00"
         ],
         "y": [
          434,
          434,
          434,
          434
         ]
        },
        {
         "connectgaps": true,
         "hovertemplate": "<br><b>caseID</b>: %{y}<br><br>%{text}",
         "line": {
          "color": "rgb(231,107,243)",
          "width": 2
         },
         "marker": {
          "color": [
           "rgb(89,130,52)",
           "rgb(137,201,79)",
           "rgb(201,93,58)"
          ],
          "size": 6
         },
         "mode": "markers+lines",
         "name": "435",
         "showlegend": false,
         "text": [
          "境外出行|英国飞迪拜(EK0<br>04)，迪拜飞香港(EK03<br>80)",
          "境内抵达|抵达香港，经深圳湾<br>口岸入境，随后隔离观察",
          "确诊|初筛及复核阳性"
         ],
         "type": "scatter",
         "x": [
          "2020-03-17T00:00:00",
          "2020-03-18T00:00:00",
          "2020-03-20T00:00:00"
         ],
         "y": [
          435,
          435,
          435
         ]
        },
        {
         "connectgaps": true,
         "hovertemplate": "<br><b>caseID</b>: %{y}<br><br>%{text}",
         "line": {
          "color": "rgb(231,107,243)",
          "width": 2
         },
         "marker": {
          "color": [
           "rgb(89,130,52)",
           "rgb(137,201,79)",
           "rgb(201,93,58)"
          ],
          "size": 6
         },
         "mode": "markers+lines",
         "name": "436",
         "showlegend": false,
         "text": [
          "境外出行|英国飞新加坡(SQ<br>317)",
          "境内抵达|新加坡飞香港(SQ<br>856)，经过深圳湾口岸入境<br>，自述曾发热，隔离观察。",
          "确诊|初筛及复查均阳性"
         ],
         "type": "scatter",
         "x": [
          "2020-03-17T00:00:00",
          "2020-03-18T00:00:00",
          "2020-03-20T00:00:00"
         ],
         "y": [
          436,
          436,
          436
         ]
        },
        {
         "connectgaps": true,
         "hovertemplate": "<br><b>caseID</b>: %{y}<br><br>%{text}",
         "line": {
          "color": "rgb(231,107,243)",
          "width": 2
         },
         "marker": {
          "color": [
           "rgb(89,130,52)",
           "rgb(137,201,79)",
           "rgb(97,175,223)",
           "rgb(201,93,58)",
           "rgb(201,93,58)"
          ],
          "size": 6
         },
         "mode": "markers+lines",
         "name": "437",
         "showlegend": false,
         "text": [
          "境外出行|英国飞新加坡(SQ<br>321)",
          "境内抵达|新加坡飞香港，经深<br>圳湾口岸入境，体温正常(SQ<br>856)",
          "发病|出现腹泻发烧头痛",
          "确诊|核酸初筛阳性",
          "确诊|复核阳性"
         ],
         "type": "scatter",
         "x": [
          "2020-03-16T00:00:00",
          "2020-03-18T00:00:00",
          "2020-03-19T00:00:00",
          "2020-03-20T00:00:00",
          "2020-03-21T00:00:00"
         ],
         "y": [
          437,
          437,
          437,
          437,
          437
         ]
        },
        {
         "connectgaps": true,
         "hovertemplate": "<br><b>caseID</b>: %{y}<br><br>%{text}",
         "line": {
          "color": "rgb(231,107,243)",
          "width": 2
         },
         "marker": {
          "color": [
           "rgb(137,201,79)",
           "rgb(201,93,58)",
           "rgb(201,93,58)"
          ],
          "size": 6
         },
         "mode": "markers+lines",
         "name": "438",
         "showlegend": false,
         "text": [
          "境内抵达|泰国飞广州，送回深<br>圳(TG668)，体温正常",
          "确诊|初筛阳性",
          "确诊|复核阳性"
         ],
         "type": "scatter",
         "x": [
          "2020-03-19T00:00:00",
          "2020-03-20T00:00:00",
          "2020-03-21T00:00:00"
         ],
         "y": [
          438,
          438,
          438
         ]
        },
        {
         "connectgaps": true,
         "hovertemplate": "<br><b>caseID</b>: %{y}<br><br>%{text}",
         "line": {
          "color": "rgb(231,107,243)",
          "width": 2
         },
         "marker": {
          "color": [
           "rgb(89,130,52)",
           "rgb(137,201,79)",
           "rgb(201,93,58)"
          ],
          "size": 6
         },
         "mode": "markers+lines",
         "name": "439",
         "showlegend": false,
         "text": [
          "境外出行|西班牙飞香港(CX<br>320)",
          "境内抵达|到达香港后从深圳湾<br>口岸入境，体温37.3，初筛<br>阳性，CT双下肺炎症",
          "确诊|多次检测复核检出阳性"
         ],
         "type": "scatter",
         "x": [
          "2020-03-10T00:00:00",
          "2020-03-11T00:00:00",
          "2020-03-21T00:00:00"
         ],
         "y": [
          439,
          439,
          439
         ]
        },
        {
         "connectgaps": true,
         "hovertemplate": "<br><b>caseID</b>: %{y}<br><br>%{text}",
         "line": {
          "color": "rgb(231,107,243)",
          "width": 2
         },
         "marker": {
          "color": [
           "rgb(89,130,52)",
           "rgb(89,130,52)",
           "rgb(137,201,79)",
           "rgb(201,93,58)"
          ],
          "size": 6
         },
         "mode": "markers+lines",
         "name": "440",
         "showlegend": false,
         "text": [
          "境外出行|美国飞香港",
          "境外出行|在香港逗留工作",
          "境内抵达|香港经深圳湾口岸入<br>境，体温37.4，复测37.<br>8，自述有肌肉酸痛症状，初筛<br>阳性",
          "确诊|复核阳性"
         ],
         "type": "scatter",
         "x": [
          "2020-03-16T00:00:00",
          "2020-03-17T00:00:00",
          "2020-03-22T00:00:00",
          "2020-03-23T00:00:00"
         ],
         "y": [
          440,
          440,
          440,
          440
         ]
        },
        {
         "connectgaps": true,
         "hovertemplate": "<br><b>caseID</b>: %{y}<br><br>%{text}",
         "line": {
          "color": "rgb(231,107,243)",
          "width": 2
         },
         "marker": {
          "color": [
           "rgb(89,130,52)",
           "rgb(137,201,79)",
           "rgb(201,93,58)"
          ],
          "size": 6
         },
         "mode": "markers+lines",
         "name": "441",
         "showlegend": false,
         "text": [
          "境外出行|伦敦飞新加坡(SQ<br>305)",
          "境内抵达|新加坡飞广州(CZ<br>3040)，体温正常",
          "确诊|初筛阳性，复核阳性"
         ],
         "type": "scatter",
         "x": [
          "2020-03-21T00:00:00",
          "2020-03-22T00:00:00",
          "2020-03-24T00:00:00"
         ],
         "y": [
          441,
          441,
          441
         ]
        },
        {
         "connectgaps": true,
         "hovertemplate": "<br><b>caseID</b>: %{y}<br><br>%{text}",
         "line": {
          "color": "rgb(231,107,243)",
          "width": 2
         },
         "marker": {
          "color": [
           "rgb(89,130,52)",
           "rgb(137,201,79)",
           "rgb(201,93,58)",
           "rgb(201,93,58)"
          ],
          "size": 6
         },
         "mode": "markers+lines",
         "name": "442",
         "showlegend": false,
         "text": [
          "境外出行|美国飞广州",
          "境内抵达|广州入境，体温正常",
          "确诊|初筛阳性",
          "确诊|复核阳性"
         ],
         "type": "scatter",
         "x": [
          "2020-03-22T00:00:00",
          "2020-03-23T00:00:00",
          "2020-03-24T00:00:00",
          "2020-03-25T00:00:00"
         ],
         "y": [
          442,
          442,
          442,
          442
         ]
        },
        {
         "connectgaps": true,
         "hovertemplate": "<br><b>caseID</b>: %{y}<br><br>%{text}",
         "line": {
          "color": "rgb(231,107,243)",
          "width": 2
         },
         "marker": {
          "color": [
           "rgb(89,130,52)",
           "rgb(137,201,79)",
           "rgb(227,93,134)",
           "rgb(227,93,134)",
           "rgb(227,93,134)",
           "rgb(201,93,58)",
           "rgb(201,93,58)"
          ],
          "size": 6
         },
         "mode": "markers+lines",
         "name": "443",
         "showlegend": false,
         "text": [
          "境外出行|法国飞香港(AF1<br>88)",
          "境内抵达|香港经深圳湾入境，<br>体温正常",
          "事件|轻微不适",
          "事件|14天隔离期结束",
          "事件|就诊，肺CT显示纤维条<br>索影",
          "确诊|初筛阳性",
          "确诊|复核阳性"
         ],
         "type": "scatter",
         "x": [
          "2020-03-01T00:00:00",
          "2020-03-02T00:00:00",
          "2020-03-11T00:00:00",
          "2020-03-17T00:00:00",
          "2020-03-23T00:00:00",
          "2020-03-24T00:00:00",
          "2020-03-25T00:00:00"
         ],
         "y": [
          443,
          443,
          443,
          443,
          443,
          443,
          443
         ]
        },
        {
         "connectgaps": true,
         "hovertemplate": "<br><b>caseID</b>: %{y}<br><br>%{text}",
         "line": {
          "color": "rgb(231,107,243)",
          "width": 2
         },
         "marker": {
          "color": [
           "rgb(89,130,52)",
           "rgb(137,201,79)",
           "rgb(97,175,223)",
           "rgb(201,93,58)"
          ],
          "size": 6
         },
         "mode": "markers+lines",
         "name": "444",
         "showlegend": false,
         "text": [
          "境外出行|美国飞香港(CX8<br>45)",
          "境内抵达|香港到深圳，入境体<br>温36.2",
          "发病|发热，咽痛，轻微流鼻涕<br>，初筛可疑阳性",
          "确诊|复核阳性"
         ],
         "type": "scatter",
         "x": [
          "2020-03-17T00:00:00",
          "2020-03-18T00:00:00",
          "2020-03-24T00:00:00",
          "2020-03-26T00:00:00"
         ],
         "y": [
          444,
          444,
          444,
          444
         ]
        }
       ],
       "layout": {
        "autosize": false,
        "height": 600,
        "template": {
         "data": {
          "bar": [
           {
            "error_x": {
             "color": "#2a3f5f"
            },
            "error_y": {
             "color": "#2a3f5f"
            },
            "marker": {
             "line": {
              "color": "#E5ECF6",
              "width": 0.5
             }
            },
            "type": "bar"
           }
          ],
          "barpolar": [
           {
            "marker": {
             "line": {
              "color": "#E5ECF6",
              "width": 0.5
             }
            },
            "type": "barpolar"
           }
          ],
          "carpet": [
           {
            "aaxis": {
             "endlinecolor": "#2a3f5f",
             "gridcolor": "white",
             "linecolor": "white",
             "minorgridcolor": "white",
             "startlinecolor": "#2a3f5f"
            },
            "baxis": {
             "endlinecolor": "#2a3f5f",
             "gridcolor": "white",
             "linecolor": "white",
             "minorgridcolor": "white",
             "startlinecolor": "#2a3f5f"
            },
            "type": "carpet"
           }
          ],
          "choropleth": [
           {
            "colorbar": {
             "outlinewidth": 0,
             "ticks": ""
            },
            "type": "choropleth"
           }
          ],
          "contour": [
           {
            "colorbar": {
             "outlinewidth": 0,
             "ticks": ""
            },
            "colorscale": [
             [
              0,
              "#0d0887"
             ],
             [
              0.1111111111111111,
              "#46039f"
             ],
             [
              0.2222222222222222,
              "#7201a8"
             ],
             [
              0.3333333333333333,
              "#9c179e"
             ],
             [
              0.4444444444444444,
              "#bd3786"
             ],
             [
              0.5555555555555556,
              "#d8576b"
             ],
             [
              0.6666666666666666,
              "#ed7953"
             ],
             [
              0.7777777777777778,
              "#fb9f3a"
             ],
             [
              0.8888888888888888,
              "#fdca26"
             ],
             [
              1,
              "#f0f921"
             ]
            ],
            "type": "contour"
           }
          ],
          "contourcarpet": [
           {
            "colorbar": {
             "outlinewidth": 0,
             "ticks": ""
            },
            "type": "contourcarpet"
           }
          ],
          "heatmap": [
           {
            "colorbar": {
             "outlinewidth": 0,
             "ticks": ""
            },
            "colorscale": [
             [
              0,
              "#0d0887"
             ],
             [
              0.1111111111111111,
              "#46039f"
             ],
             [
              0.2222222222222222,
              "#7201a8"
             ],
             [
              0.3333333333333333,
              "#9c179e"
             ],
             [
              0.4444444444444444,
              "#bd3786"
             ],
             [
              0.5555555555555556,
              "#d8576b"
             ],
             [
              0.6666666666666666,
              "#ed7953"
             ],
             [
              0.7777777777777778,
              "#fb9f3a"
             ],
             [
              0.8888888888888888,
              "#fdca26"
             ],
             [
              1,
              "#f0f921"
             ]
            ],
            "type": "heatmap"
           }
          ],
          "heatmapgl": [
           {
            "colorbar": {
             "outlinewidth": 0,
             "ticks": ""
            },
            "colorscale": [
             [
              0,
              "#0d0887"
             ],
             [
              0.1111111111111111,
              "#46039f"
             ],
             [
              0.2222222222222222,
              "#7201a8"
             ],
             [
              0.3333333333333333,
              "#9c179e"
             ],
             [
              0.4444444444444444,
              "#bd3786"
             ],
             [
              0.5555555555555556,
              "#d8576b"
             ],
             [
              0.6666666666666666,
              "#ed7953"
             ],
             [
              0.7777777777777778,
              "#fb9f3a"
             ],
             [
              0.8888888888888888,
              "#fdca26"
             ],
             [
              1,
              "#f0f921"
             ]
            ],
            "type": "heatmapgl"
           }
          ],
          "histogram": [
           {
            "marker": {
             "colorbar": {
              "outlinewidth": 0,
              "ticks": ""
             }
            },
            "type": "histogram"
           }
          ],
          "histogram2d": [
           {
            "colorbar": {
             "outlinewidth": 0,
             "ticks": ""
            },
            "colorscale": [
             [
              0,
              "#0d0887"
             ],
             [
              0.1111111111111111,
              "#46039f"
             ],
             [
              0.2222222222222222,
              "#7201a8"
             ],
             [
              0.3333333333333333,
              "#9c179e"
             ],
             [
              0.4444444444444444,
              "#bd3786"
             ],
             [
              0.5555555555555556,
              "#d8576b"
             ],
             [
              0.6666666666666666,
              "#ed7953"
             ],
             [
              0.7777777777777778,
              "#fb9f3a"
             ],
             [
              0.8888888888888888,
              "#fdca26"
             ],
             [
              1,
              "#f0f921"
             ]
            ],
            "type": "histogram2d"
           }
          ],
          "histogram2dcontour": [
           {
            "colorbar": {
             "outlinewidth": 0,
             "ticks": ""
            },
            "colorscale": [
             [
              0,
              "#0d0887"
             ],
             [
              0.1111111111111111,
              "#46039f"
             ],
             [
              0.2222222222222222,
              "#7201a8"
             ],
             [
              0.3333333333333333,
              "#9c179e"
             ],
             [
              0.4444444444444444,
              "#bd3786"
             ],
             [
              0.5555555555555556,
              "#d8576b"
             ],
             [
              0.6666666666666666,
              "#ed7953"
             ],
             [
              0.7777777777777778,
              "#fb9f3a"
             ],
             [
              0.8888888888888888,
              "#fdca26"
             ],
             [
              1,
              "#f0f921"
             ]
            ],
            "type": "histogram2dcontour"
           }
          ],
          "mesh3d": [
           {
            "colorbar": {
             "outlinewidth": 0,
             "ticks": ""
            },
            "type": "mesh3d"
           }
          ],
          "parcoords": [
           {
            "line": {
             "colorbar": {
              "outlinewidth": 0,
              "ticks": ""
             }
            },
            "type": "parcoords"
           }
          ],
          "pie": [
           {
            "automargin": true,
            "type": "pie"
           }
          ],
          "scatter": [
           {
            "marker": {
             "colorbar": {
              "outlinewidth": 0,
              "ticks": ""
             }
            },
            "type": "scatter"
           }
          ],
          "scatter3d": [
           {
            "line": {
             "colorbar": {
              "outlinewidth": 0,
              "ticks": ""
             }
            },
            "marker": {
             "colorbar": {
              "outlinewidth": 0,
              "ticks": ""
             }
            },
            "type": "scatter3d"
           }
          ],
          "scattercarpet": [
           {
            "marker": {
             "colorbar": {
              "outlinewidth": 0,
              "ticks": ""
             }
            },
            "type": "scattercarpet"
           }
          ],
          "scattergeo": [
           {
            "marker": {
             "colorbar": {
              "outlinewidth": 0,
              "ticks": ""
             }
            },
            "type": "scattergeo"
           }
          ],
          "scattergl": [
           {
            "marker": {
             "colorbar": {
              "outlinewidth": 0,
              "ticks": ""
             }
            },
            "type": "scattergl"
           }
          ],
          "scattermapbox": [
           {
            "marker": {
             "colorbar": {
              "outlinewidth": 0,
              "ticks": ""
             }
            },
            "type": "scattermapbox"
           }
          ],
          "scatterpolar": [
           {
            "marker": {
             "colorbar": {
              "outlinewidth": 0,
              "ticks": ""
             }
            },
            "type": "scatterpolar"
           }
          ],
          "scatterpolargl": [
           {
            "marker": {
             "colorbar": {
              "outlinewidth": 0,
              "ticks": ""
             }
            },
            "type": "scatterpolargl"
           }
          ],
          "scatterternary": [
           {
            "marker": {
             "colorbar": {
              "outlinewidth": 0,
              "ticks": ""
             }
            },
            "type": "scatterternary"
           }
          ],
          "surface": [
           {
            "colorbar": {
             "outlinewidth": 0,
             "ticks": ""
            },
            "colorscale": [
             [
              0,
              "#0d0887"
             ],
             [
              0.1111111111111111,
              "#46039f"
             ],
             [
              0.2222222222222222,
              "#7201a8"
             ],
             [
              0.3333333333333333,
              "#9c179e"
             ],
             [
              0.4444444444444444,
              "#bd3786"
             ],
             [
              0.5555555555555556,
              "#d8576b"
             ],
             [
              0.6666666666666666,
              "#ed7953"
             ],
             [
              0.7777777777777778,
              "#fb9f3a"
             ],
             [
              0.8888888888888888,
              "#fdca26"
             ],
             [
              1,
              "#f0f921"
             ]
            ],
            "type": "surface"
           }
          ],
          "table": [
           {
            "cells": {
             "fill": {
              "color": "#EBF0F8"
             },
             "line": {
              "color": "white"
             }
            },
            "header": {
             "fill": {
              "color": "#C8D4E3"
             },
             "line": {
              "color": "white"
             }
            },
            "type": "table"
           }
          ]
         },
         "layout": {
          "annotationdefaults": {
           "arrowcolor": "#2a3f5f",
           "arrowhead": 0,
           "arrowwidth": 1
          },
          "coloraxis": {
           "colorbar": {
            "outlinewidth": 0,
            "ticks": ""
           }
          },
          "colorscale": {
           "diverging": [
            [
             0,
             "#8e0152"
            ],
            [
             0.1,
             "#c51b7d"
            ],
            [
             0.2,
             "#de77ae"
            ],
            [
             0.3,
             "#f1b6da"
            ],
            [
             0.4,
             "#fde0ef"
            ],
            [
             0.5,
             "#f7f7f7"
            ],
            [
             0.6,
             "#e6f5d0"
            ],
            [
             0.7,
             "#b8e186"
            ],
            [
             0.8,
             "#7fbc41"
            ],
            [
             0.9,
             "#4d9221"
            ],
            [
             1,
             "#276419"
            ]
           ],
           "sequential": [
            [
             0,
             "#0d0887"
            ],
            [
             0.1111111111111111,
             "#46039f"
            ],
            [
             0.2222222222222222,
             "#7201a8"
            ],
            [
             0.3333333333333333,
             "#9c179e"
            ],
            [
             0.4444444444444444,
             "#bd3786"
            ],
            [
             0.5555555555555556,
             "#d8576b"
            ],
            [
             0.6666666666666666,
             "#ed7953"
            ],
            [
             0.7777777777777778,
             "#fb9f3a"
            ],
            [
             0.8888888888888888,
             "#fdca26"
            ],
            [
             1,
             "#f0f921"
            ]
           ],
           "sequentialminus": [
            [
             0,
             "#0d0887"
            ],
            [
             0.1111111111111111,
             "#46039f"
            ],
            [
             0.2222222222222222,
             "#7201a8"
            ],
            [
             0.3333333333333333,
             "#9c179e"
            ],
            [
             0.4444444444444444,
             "#bd3786"
            ],
            [
             0.5555555555555556,
             "#d8576b"
            ],
            [
             0.6666666666666666,
             "#ed7953"
            ],
            [
             0.7777777777777778,
             "#fb9f3a"
            ],
            [
             0.8888888888888888,
             "#fdca26"
            ],
            [
             1,
             "#f0f921"
            ]
           ]
          },
          "colorway": [
           "#636efa",
           "#EF553B",
           "#00cc96",
           "#ab63fa",
           "#FFA15A",
           "#19d3f3",
           "#FF6692",
           "#B6E880",
           "#FF97FF",
           "#FECB52"
          ],
          "font": {
           "color": "#2a3f5f"
          },
          "geo": {
           "bgcolor": "white",
           "lakecolor": "white",
           "landcolor": "#E5ECF6",
           "showlakes": true,
           "showland": true,
           "subunitcolor": "white"
          },
          "hoverlabel": {
           "align": "left"
          },
          "hovermode": "closest",
          "mapbox": {
           "style": "light"
          },
          "paper_bgcolor": "white",
          "plot_bgcolor": "#E5ECF6",
          "polar": {
           "angularaxis": {
            "gridcolor": "white",
            "linecolor": "white",
            "ticks": ""
           },
           "bgcolor": "#E5ECF6",
           "radialaxis": {
            "gridcolor": "white",
            "linecolor": "white",
            "ticks": ""
           }
          },
          "scene": {
           "xaxis": {
            "backgroundcolor": "#E5ECF6",
            "gridcolor": "white",
            "gridwidth": 2,
            "linecolor": "white",
            "showbackground": true,
            "ticks": "",
            "zerolinecolor": "white"
           },
           "yaxis": {
            "backgroundcolor": "#E5ECF6",
            "gridcolor": "white",
            "gridwidth": 2,
            "linecolor": "white",
            "showbackground": true,
            "ticks": "",
            "zerolinecolor": "white"
           },
           "zaxis": {
            "backgroundcolor": "#E5ECF6",
            "gridcolor": "white",
            "gridwidth": 2,
            "linecolor": "white",
            "showbackground": true,
            "ticks": "",
            "zerolinecolor": "white"
           }
          },
          "shapedefaults": {
           "line": {
            "color": "#2a3f5f"
           }
          },
          "ternary": {
           "aaxis": {
            "gridcolor": "white",
            "linecolor": "white",
            "ticks": ""
           },
           "baxis": {
            "gridcolor": "white",
            "linecolor": "white",
            "ticks": ""
           },
           "bgcolor": "#E5ECF6",
           "caxis": {
            "gridcolor": "white",
            "linecolor": "white",
            "ticks": ""
           }
          },
          "title": {
           "x": 0.05
          },
          "xaxis": {
           "automargin": true,
           "gridcolor": "white",
           "linecolor": "white",
           "ticks": "",
           "title": {
            "standoff": 15
           },
           "zerolinecolor": "white",
           "zerolinewidth": 2
          },
          "yaxis": {
           "automargin": true,
           "gridcolor": "white",
           "linecolor": "white",
           "ticks": "",
           "title": {
            "standoff": 15
           },
           "zerolinecolor": "white",
           "zerolinewidth": 2
          }
         }
        },
        "width": 700,
        "xaxis": {
         "autorange": true,
         "range": [
          "2019-12-29 17:31:47.21",
          "2020-03-31 06:28:12.79"
         ],
         "type": "date"
        },
        "yaxis": {
         "autorange": true,
         "range": [
          416.2631578947368,
          445.7368421052632
         ],
         "type": "linear"
        }
       }
      },
      "image/png": "[encoded data removed]",
      "text/html": [
       "<div>\n",
       "        \n",
       "        \n",
       "            <div id=\"55239eef-7909-4b5a-8b28-30af5800a551\" class=\"plotly-graph-div\" style=\"height:600px; width:700px;\"></div>\n",
       "            <script type=\"text/javascript\">\n",
       "                require([\"plotly\"], function(Plotly) {\n",
       "                    window.PLOTLYENV=window.PLOTLYENV || {};\n",
       "                    \n",
       "                if (document.getElementById(\"55239eef-7909-4b5a-8b28-30af5800a551\")) {\n",
       "                    Plotly.newPlot(\n",
       "                        '55239eef-7909-4b5a-8b28-30af5800a551',\n",
       "                        [{\"connectgaps\": true, \"hovertemplate\": \"<br><b>caseID</b>: %{y}<br><br>%{text}\", \"line\": {\"color\": \"rgb(231,107,243)\", \"width\": 2}, \"marker\": {\"color\": [\"rgb(89,130,52)\", \"rgb(137,201,79)\", \"rgb(97,175,223)\", \"rgb(201,93,58)\"], \"size\": 6}, \"mode\": \"markers+lines\", \"name\": \"418\", \"showlegend\": false, \"text\": [\"\\u5883\\u5916\\u51fa\\u884c|\\u4f26\\u6566\\u98de\\u9999\\u6e2f(CX2<br>50)\", \"\\u5883\\u5185\\u62b5\\u8fbe|13:27\\u62b5\\u8fbe\\u9999\\u6e2f<br>\\u673a\\u573a; 15:30\\u6e21\\u8f6e(3A<br>109)\\u4ece\\u9999\\u6e2f\\u62b5\\u8fbe\\u6df1\\u5733\\u86c7\\u53e3\\u7801<br>\\u5934; \\u968f\\u540e\\u6253\\u8f66\\u56de\\u5bb6;<br>\\u5168\\u7a0b\\u4f69\\u6234\\u53e3\\u7f69\\uff0c\\u5c45\\u5bb6\\u672a\\u5916\\u51fa\\u3002\", \"\\u53d1\\u75c5|\\u4e0a\\u5348\\u51fa\\u73b0\\u53d1\\u70ed\\u54b3\\u55fd\\uff0c\\u7531\\u5176<br>\\u59bb\\u5b50\\u9001\\u533b\\u9662\\u6838\\u9178\\u521d\\u7b5b\\u9633\\u6027\", \"\\u786e\\u8bca|\\u5e02\\u75be\\u63a7\\u590d\\u6838\\u9633\\u6027\"], \"type\": \"scatter\", \"x\": [\"2020-02-27T00:00:00\", \"2020-02-28T00:00:00\", \"2020-02-29T00:00:00\", \"2020-03-01T00:00:00\"], \"y\": [418, 418, 418, 418]}, {\"connectgaps\": true, \"hovertemplate\": \"<br><b>caseID</b>: %{y}<br><br>%{text}\", \"line\": {\"color\": \"rgb(231,107,243)\", \"width\": 2}, \"marker\": {\"color\": [\"rgb(89,130,52)\", \"rgb(89,130,52)\", \"rgb(137,201,79)\", \"rgb(97,175,223)\", \"rgb(97,175,223)\", \"rgb(201,93,58)\", \"rgb(201,93,58)\"], \"size\": 6}, \"mode\": \"markers+lines\", \"name\": \"419\", \"showlegend\": false, \"text\": [\"\\u5883\\u5916\\u51fa\\u884c|\\u524d\\u5f80\\u897f\\u73ed\\u7259\\u65c5\\u6e38\", \"\\u5883\\u5916\\u51fa\\u884c|\\u897f\\u73ed\\u7259\\u98de\\u4e2d\\u56fd(EY<br>0050);<br>\\u4e8e\\u963f\\u8054\\u914b\\u8f6c\\u673a(EY0888)\", \"\\u5883\\u5185\\u62b5\\u8fbe|8\\u65f6\\u62b5\\u8fbe\\u5317\\u4eac\\u9996\\u90fd\\u673a<br>\\u573aT3\\u822a\\u7ad9\\u697c,\\u5f53\\u5929\\u8fd4\\u56de\\u6df1\\u5733(<br>ZH9104)\\uff0c\\u5176\\u5b50\\u9a7e\\u8f66\\u63a5\\u56de<br>\\u5bb6\\u3002\", \"\\u53d1\\u75c5|\\u81ea\\u8ff0\\u53d1\\u70ed\\uff0c\\u4f53\\u6e2937\", \"\\u53d1\\u75c5|\\u533b\\u9662\\u5c31\\u8bca\", \"\\u786e\\u8bca|\\u521d\\u7b5b\\u7ed3\\u679c\\u9633\\u6027\", \"\\u786e\\u8bca|\\u5e02\\u75be\\u63a7\\u590d\\u6838\\u9633\\u6027\"], \"type\": \"scatter\", \"x\": [\"2020-01-10T00:00:00\", \"2020-03-01T00:00:00\", \"2020-03-02T00:00:00\", \"2020-03-03T00:00:00\", \"2020-03-04T00:00:00\", \"2020-03-05T00:00:00\", \"2020-03-06T00:00:00\"], \"y\": [419, 419, 419, 419, 419, 419, 419]}, {\"connectgaps\": true, \"hovertemplate\": \"<br><b>caseID</b>: %{y}<br><br>%{text}\", \"line\": {\"color\": \"rgb(231,107,243)\", \"width\": 2}, \"marker\": {\"color\": [\"rgb(89,130,52)\", \"rgb(97,175,223)\", \"rgb(89,130,52)\", \"rgb(137,201,79)\", \"rgb(201,93,58)\"], \"size\": 6}, \"mode\": \"markers+lines\", \"name\": \"420\", \"showlegend\": false, \"text\": [\"\\u5883\\u5916\\u51fa\\u884c|\\u51fa\\u5dee\\u524d\\u5f80\\u9999\\u6e2f\\u98de\\u6cd5\\u56fd<br>\\u5df4\\u9ece(CX261),<br>\\u81ea\\u8ff0\\u540c\\u4e8b\\u6709\\u53d1\\u70ed\\u75c7\\u72b6\", \"\\u53d1\\u75c5|\\u51fa\\u73b0\\u53d1\\u70ed\\u54b3\\u55fd\\u75c7\\u72b6\", \"\\u5883\\u5916\\u51fa\\u884c|\\u6cd5\\u56fd\\u5df4\\u9ece\\u8fd4\\u56de\\u9999\\u6e2f(<br>CX260)\", \"\\u5883\\u5185\\u62b5\\u8fbe|\\u4e58\\u5750\\u9999\\u6e2f\\u7684\\u58eb\\u5230\\u8fbe\\u6df1<br>\\u5733\\u6e7e\\u53e3\\u5cb8(UF1749),<br>\\u4f53\\u6e29\\u6b63\\u5e38,<br>\\u6839\\u636e\\u51fa\\u884c\\u53f2\\u53ca\\u75c7\\u72b6\\u9001\\u533b\\u5c31\\u8bca,<br>CT\\u51fa\\u73b0\\u78e8\\u73bb\\u7483\\u5f71; \\u521d\\u7b5b\\u9633\\u6027\", \"\\u786e\\u8bca|\\u5e02\\u75be\\u63a7\\u590d\\u6838\\u9633\\u6027\"], \"type\": \"scatter\", \"x\": [\"2020-02-07T00:00:00\", \"2020-03-02T00:00:00\", \"2020-03-09T00:00:00\", \"2020-03-10T00:00:00\", \"2020-03-11T00:00:00\"], \"y\": [420, 420, 420, 420, 420]}, {\"connectgaps\": true, \"hovertemplate\": \"<br><b>caseID</b>: %{y}<br><br>%{text}\", \"line\": {\"color\": \"rgb(231,107,243)\", \"width\": 2}, \"marker\": {\"color\": [\"rgb(97,175,223)\", \"rgb(137,201,79)\", \"rgb(201,93,58)\"], \"size\": 6}, \"mode\": \"markers+lines\", \"name\": \"421\", \"showlegend\": false, \"text\": [\"\\u53d1\\u75c5|\\u51fa\\u73b0\\u54bd\\u75db\\u75c7\\u72b6\", \"\\u5883\\u5185\\u62b5\\u8fbe| 22:20\\u4ece\\u83f2\\u5f8b<br>\\u5bbe\\u98de\\u9999\\u6e2f(CX902)\\uff0c\\u4e58\\u5750<br>\\u9999\\u6e2f\\u7684\\u58eb\\u524d\\u5f80\\u6df1\\u5733\\u6e7e\\u53e3\\u5cb8\\uff0c\\u671f\\u95f4<br>\\u4f69\\u6234\\u53e3\\u7f69;<br>\\u5728\\u6df1\\u5733\\u6e7e\\u5165\\u5883\\u6df1\\u5733\\uff0c\\u4f53\\u6e29\\u6b63\\u5e38\", \"\\u786e\\u8bca|\\u5c31\\u533b\\uff0cCT\\u663e\\u793a\\u53cc\\u80ba\\u611f\\u67d3<br>\\uff0c\\u521d\\u7b5b\\u9633\\u6027\\uff0c\\u4e0b\\u5348\\u6df1\\u5733\\u5e02\\u75be\\u63a7\\u590d<br>\\u6838\\u9633\\u6027\\u3002\"], \"type\": \"scatter\", \"x\": [\"2020-03-09T00:00:00\", \"2020-03-13T00:00:00\", \"2020-03-14T00:00:00\"], \"y\": [421, 421, 421]}, {\"connectgaps\": true, \"hovertemplate\": \"<br><b>caseID</b>: %{y}<br><br>%{text}\", \"line\": {\"color\": \"rgb(231,107,243)\", \"width\": 2}, \"marker\": {\"color\": [\"rgb(89,130,52)\", \"rgb(97,175,223)\", \"rgb(89,130,52)\", \"rgb(137,201,79)\", \"rgb(201,93,58)\"], \"size\": 6}, \"mode\": \"markers+lines\", \"name\": \"422\", \"showlegend\": false, \"text\": [\"\\u5883\\u5916\\u51fa\\u884c|\\u6df1\\u5733\\u7ecf\\u9999\\u6e2f\\u98de\\u745e\\u58eb\", \"\\u53d1\\u75c5|\\u81ea\\u8ff0\\u5589\\u5499\\u75db\\uff0c\\u54b3\\u55fd\\uff0c\\u54b3\\u9ec4<br>\\u75f0\\uff0c\\u65e0\\u53d1\\u70ed\", \"\\u5883\\u5916\\u51fa\\u884c|\\u745e\\u58eb\\u98de\\u4e2d\\u56fd(CX3<br>82)\", \"\\u5883\\u5185\\u62b5\\u8fbe|\\u5230\\u8fbe\\u9999\\u6e2f\\u56fd\\u9645\\u673a\\u573a\\uff0c<br>\\u4e58\\u5750\\u5546\\u52a1\\u8f66\\u62b5\\u6df1\\u5733\\u6e7e\\u53e3\\u5cb8\\uff0c\\u5168\\u7a0b<br>\\u5747\\u4f69\\u6234\\u53e3\\u7f69\\u3002\\u9001\\u533b\\uff0c\\u521d\\u7b5b\\u9633\\u6027\", \"\\u786e\\u8bca|\\u6df1\\u5733\\u5e02\\u75be\\u63a7\\u590d\\u6838\\u9633\\u6027\"], \"type\": \"scatter\", \"x\": [\"2020-01-04T00:00:00\", \"2020-03-11T00:00:00\", \"2020-03-13T00:00:00\", \"2020-03-14T00:00:00\", \"2020-03-15T00:00:00\"], \"y\": [422, 422, 422, 422, 422]}, {\"connectgaps\": true, \"hovertemplate\": \"<br><b>caseID</b>: %{y}<br><br>%{text}\", \"line\": {\"color\": \"rgb(231,107,243)\", \"width\": 2}, \"marker\": {\"color\": [\"rgb(97,175,223)\", \"rgb(97,175,223)\", \"rgb(97,175,223)\", \"rgb(97,175,223)\", \"rgb(137,201,79)\", \"rgb(201,93,58)\"], \"size\": 6}, \"mode\": \"markers+lines\", \"name\": \"423\", \"showlegend\": false, \"text\": [\"\\u53d1\\u75c5|\\u81ea\\u8ff0\\u53d1\\u70ed\", \"\\u53d1\\u75c5|\\u4f53\\u6e29\\u9ad8\\u8fbe38.4\\uff0c\\u81ea\\u884c<br>\\u670d\\u836f\", \"\\u53d1\\u75c5|\\u75c7\\u72b6\\u6d88\\u5931\", \"\\u53d1\\u75c5|\\u518d\\u6b21\\u53d1\\u70ed\", \"\\u5883\\u5185\\u62b5\\u8fbe|\\u83f2\\u5f8b\\u5bbe\\u98de\\u4e2d\\u56fd(KA<br>5930)\\uff0c\\u5728\\u9999\\u6e2f\\u673a\\u573a\\u4e58\\u5750\\u7684<br>\\u58eb\\u524d\\u5f80\\u6df1\\u5733\\u6e7e\\u53e3\\u5cb8\\u3002\\u4f53\\u6e29\\u6b63\\u5e38\\uff0c<br>\\u6d77\\u5173\\u7559\\u89c2\\u3002\", \"\\u786e\\u8bca|\\u521d\\u7b5b\\u9633\\u6027\\uff0c\\u6d77\\u5173\\u590d\\u6838\\u9633\\u6027<br>\\uff0c\\u5e02\\u75be\\u63a7\\u590d\\u6838\\u9633\\u6027\"], \"type\": \"scatter\", \"x\": [\"2020-03-05T00:00:00\", \"2020-03-06T00:00:00\", \"2020-03-10T00:00:00\", \"2020-03-13T00:00:00\", \"2020-03-14T00:00:00\", \"2020-03-15T00:00:00\"], \"y\": [423, 423, 423, 423, 423, 423]}, {\"connectgaps\": true, \"hovertemplate\": \"<br><b>caseID</b>: %{y}<br><br>%{text}\", \"line\": {\"color\": \"rgb(231,107,243)\", \"width\": 2}, \"marker\": {\"color\": [\"rgb(89,130,52)\", \"rgb(137,201,79)\", \"rgb(201,93,58)\"], \"size\": 6}, \"mode\": \"markers+lines\", \"name\": \"424\", \"showlegend\": false, \"text\": [\"\\u5883\\u5916\\u51fa\\u884c|\\u82f1\\u56fd\\u98de\\u5fb7\\u56fd(LH9<br>15)\\uff0c\\u5fb7\\u56fd\\u98de\\u9999\\u6e2f(LH79<br>6)\\uff0c\\u81ea\\u8ff0\\u540c\\u6392\\u4e58\\u5ba2\\u54b3\\u55fd\\u3002\", \"\\u5883\\u5185\\u62b5\\u8fbe|\\u5230\\u8fbe\\u9999\\u6e2f\\u673a\\u573a\\uff0c\\u4e58\\u7684<br>\\u58eb\\u524d\\u5f80\\u6df1\\u5733\\u6e7e\\u53e3\\u5cb8\\uff0c\\u6709\\u53d1\\u70ed\\uff0c\\u5168<br>\\u7a0b\\u4f69\\u6234\\u53e3\\u7f69\\u3002\", \"\\u786e\\u8bca|\\u521d\\u7b5b\\u9633\\u6027\\uff0c\\u6d77\\u5173\\u9633\\u6027\\uff0c\\u5e02<br>\\u75be\\u63a7\\u590d\\u6838\\u9633\\u6027\"], \"type\": \"scatter\", \"x\": [\"2020-03-14T00:00:00\", \"2020-03-15T00:00:00\", \"2020-03-16T00:00:00\"], \"y\": [424, 424, 424]}, {\"connectgaps\": true, \"hovertemplate\": \"<br><b>caseID</b>: %{y}<br><br>%{text}\", \"line\": {\"color\": \"rgb(231,107,243)\", \"width\": 2}, \"marker\": {\"color\": [\"rgb(89,130,52)\", \"rgb(89,130,52)\", \"rgb(137,201,79)\", \"rgb(137,201,79)\", \"rgb(201,93,58)\"], \"size\": 6}, \"mode\": \"markers+lines\", \"name\": \"425\", \"showlegend\": false, \"text\": [\"\\u5883\\u5916\\u51fa\\u884c|\\u4ece\\u6df1\\u5733\\u524d\\u5f80\\u8377\\u5170\\u4f11\\u5047\", \"\\u5883\\u5916\\u51fa\\u884c|\\u8377\\u5170\\u98de\\u6cf0\\u56fd(KL8<br>75)\", \"\\u5883\\u5185\\u62b5\\u8fbe|\\u6cf0\\u56fd\\u98de\\u6df1\\u5733(CZ8<br>324)\\uff0c\\u5168\\u7a0b\\u9664\\u8fdb\\u9910\\u5747\\u4f69\\u6234\\u53e3<br>\\u7f69\\u3002\", \"\\u5883\\u5185\\u62b5\\u8fbe|\\u91c7\\u6837\\u540e\\u4e13\\u8f66\\u63a5\\u56de\\u5bb6\\u5c45<br>\\u5bb6\\u9694\\u79bb\\uff0c\\u5f53\\u5929\\u665a\\u4e0a\\u521d\\u7b5b\\u9633\\u6027\\u3002\", \"\\u786e\\u8bca|\\u5e02\\u75be\\u63a7\\u590d\\u6838\\u9633\\u6027\"], \"type\": \"scatter\", \"x\": [\"2020-01-27T00:00:00\", \"2020-03-14T00:00:00\", \"2020-03-15T00:00:00\", \"2020-03-16T00:00:00\", \"2020-03-17T00:00:00\"], \"y\": [425, 425, 425, 425, 425]}, {\"connectgaps\": true, \"hovertemplate\": \"<br><b>caseID</b>: %{y}<br><br>%{text}\", \"line\": {\"color\": \"rgb(231,107,243)\", \"width\": 2}, \"marker\": {\"color\": [\"rgb(89,130,52)\", \"rgb(89,130,52)\", \"rgb(137,201,79)\", \"rgb(97,175,223)\", \"rgb(201,93,58)\"], \"size\": 6}, \"mode\": \"markers+lines\", \"name\": \"426\", \"showlegend\": false, \"text\": [\"\\u5883\\u5916\\u51fa\\u884c|\\u524d\\u5f80\\u4f26\\u6566\\u6c42\\u5b66\", \"\\u5883\\u5916\\u51fa\\u884c|\\u4f26\\u6566\\u98de\\u82ac\\u5170(AY1<br>338)\", \"\\u5883\\u5185\\u62b5\\u8fbe|\\u82ac\\u5170\\u98de\\u9999\\u6e2f(AY0<br>99)\\uff0c\\u4e58\\u7684\\u58eb\\u524d\\u5f80\\u6df1\\u5733\\u6e7e\\u53e3\\u5cb8<br>\\uff0c\\u5168\\u7a0b\\u9664\\u8fdb\\u9910\\u5747\\u6234\\u53e3\\u7f69\\u3002\\u5f53\\u665a\\u9001<br>\\u5f80\\u96c6\\u4e2d\\u9694\\u79bb\\u70b9\\u5165\\u4f4f\\u3002\", \"\\u53d1\\u75c5|\\u91c7\\u96c6\\u54bd\\u62ed\\u5b50\\uff0c\\u51fa\\u73b0\\u4f4e\\u70ed\", \"\\u786e\\u8bca|\\u521d\\u7b5b\\u9633\\u6027\\uff0c\\u9001\\u9662\\u6cbb\\u7597\\u3002\\u5e02<br>\\u75be\\u63a7\\u590d\\u6838\\u9633\\u6027\\u3002\"], \"type\": \"scatter\", \"x\": [\"2020-01-12T00:00:00\", \"2020-03-15T00:00:00\", \"2020-03-16T00:00:00\", \"2020-03-17T00:00:00\", \"2020-03-18T00:00:00\"], \"y\": [426, 426, 426, 426, 426]}, {\"connectgaps\": true, \"hovertemplate\": \"<br><b>caseID</b>: %{y}<br><br>%{text}\", \"line\": {\"color\": \"rgb(231,107,243)\", \"width\": 2}, \"marker\": {\"color\": [\"rgb(89,130,52)\", \"rgb(89,130,52)\", \"rgb(137,201,79)\", \"rgb(201,93,58)\"], \"size\": 6}, \"mode\": \"markers+lines\", \"name\": \"427\", \"showlegend\": false, \"text\": [\"\\u5883\\u5916\\u51fa\\u884c|\\u524d\\u5f80\\u82f1\\u56fd\\u4f26\\u6566\\u6c42\\u5b66\", \"\\u5883\\u5916\\u51fa\\u884c|\\u82f1\\u56fd\\u98de\\u65b0\\u52a0\\u5761(SQ<br>317)\", \"\\u5883\\u5185\\u62b5\\u8fbe|\\u65b0\\u52a0\\u5761\\u98de\\u9999\\u6e2f(SQ<br>856)\\uff0c\\u76f4\\u901a\\u8f66\\u8f6c\\u4e58\\u7684\\u58eb\\u524d\\u5f80<br>\\u6df1\\u5733\\u3002\\u81ea\\u89c9\\u54b3\\u55fd\\u4e4f\\u529b\\u3002\\u6d77\\u5173\\u7559\\u89c2<br>\\u540e\\u9001\\u9662\\u3002\", \"\\u786e\\u8bca|\\u521d\\u7b5b\\u9633\\u6027\\uff0c\\u5e02\\u75be\\u63a7\\u590d\\u6838\\u9633<br>\\u6027\\u3002\"], \"type\": \"scatter\", \"x\": [\"2020-01-05T00:00:00\", \"2020-03-16T00:00:00\", \"2020-03-17T00:00:00\", \"2020-03-18T00:00:00\"], \"y\": [427, 427, 427, 427]}, {\"connectgaps\": true, \"hovertemplate\": \"<br><b>caseID</b>: %{y}<br><br>%{text}\", \"line\": {\"color\": \"rgb(231,107,243)\", \"width\": 2}, \"marker\": {\"color\": [\"rgb(89,130,52)\", \"rgb(137,201,79)\", \"rgb(97,175,223)\", \"rgb(201,93,58)\"], \"size\": 6}, \"mode\": \"markers+lines\", \"name\": \"428\", \"showlegend\": false, \"text\": [\"\\u5883\\u5916\\u51fa\\u884c|\\u6cd5\\u56fd\\u98de\\u5fb7\\u56fd(LH1<br>04)\\uff0c\\u5fb7\\u56fd\\u98de\\u9999\\u6e2f(LH79<br>6)\", \"\\u5883\\u5185\\u62b5\\u8fbe|\\u9999\\u6e2f\\u5230\\u6df1\\u5733\\u6e7e\\u5165\\u5883\\u3002<br>\\u6709\\u54b3\\u55fd\\u4e4f\\u529b\\u75c7\\u72b6\", \"\\u53d1\\u75c5|\\u6709\\u54b3\\u55fd\\u4e4f\\u529b\\u7b49\\u75c7\\u72b6,<br>\\u521d\\u7b5b\\u9633\\u6027\", \"\\u786e\\u8bca|\\u5e02\\u75be\\u63a7\\u590d\\u6838\\u9633\\u6027\"], \"type\": \"scatter\", \"x\": [\"2020-03-14T00:00:00\", \"2020-03-17T00:00:00\", \"2020-03-18T00:00:00\", \"2020-03-19T00:00:00\"], \"y\": [428, 428, 428, 428]}, {\"connectgaps\": true, \"hovertemplate\": \"<br><b>caseID</b>: %{y}<br><br>%{text}\", \"line\": {\"color\": \"rgb(231,107,243)\", \"width\": 2}, \"marker\": {\"color\": [\"rgb(89,130,52)\", \"rgb(137,201,79)\", \"rgb(97,175,223)\", \"rgb(201,93,58)\"], \"size\": 6}, \"mode\": \"markers+lines\", \"name\": \"429\", \"showlegend\": false, \"text\": [\"\\u5883\\u5916\\u51fa\\u884c|\\u6cd5\\u56fd\\u98de\\u4e2d\\u56fd\\u5e7f\\u5dde(C<br>Z348)\", \"\\u5883\\u5185\\u62b5\\u8fbe|\\u62b5\\u8fbe\\u5e7f\\u5dde\\uff0c\\u5165\\u5883\\u540e\\u4e13<br>\\u8f66\\u9001\\u5f80(\\u6df1\\u5733?)\\u9694\\u79bb\\u89c2\\u5bdf\", \"\\u53d1\\u75c5|\\u81ea\\u8ff0\\u5934\\u75db\\uff0c\\u8f7b\\u5fae\\u54b3\\u55fd\\uff0c\\u521d<br>\\u7b5b\\u9633\\u6027\", \"\\u786e\\u8bca|\\u5e02\\u75be\\u63a7\\u590d\\u6838\\u9633\\u6027\"], \"type\": \"scatter\", \"x\": [\"2020-03-16T00:00:00\", \"2020-03-17T00:00:00\", \"2020-03-18T00:00:00\", \"2020-03-19T00:00:00\"], \"y\": [429, 429, 429, 429]}, {\"connectgaps\": true, \"hovertemplate\": \"<br><b>caseID</b>: %{y}<br><br>%{text}\", \"line\": {\"color\": \"rgb(231,107,243)\", \"width\": 2}, \"marker\": {\"color\": [\"rgb(89,130,52)\", \"rgb(137,201,79)\", \"rgb(201,93,58)\"], \"size\": 6}, \"mode\": \"markers+lines\", \"name\": \"430\", \"showlegend\": false, \"text\": [\"\\u5883\\u5916\\u51fa\\u884c|\\u7f8e\\u56fd\\u7eb3\\u4ec0\\u7ef4\\u5c14\\u98de\\u7f8e\\u56fd<br>\\u829d\\u52a0\\u54e5(AA3203)\\uff0c\\u7f8e\\u56fd<br>\\u98de\\u9999\\u6e2f(CX807)\", \"\\u5883\\u5185\\u62b5\\u8fbe|\\u4ece\\u9999\\u6e2f\\u5230\\u6df1\\u5733\\u6e7e\\u53e3\\u5cb8<br>\\u5165\\u5883\\uff0c\\u4f53\\u6e29\\u6b63\\u5e38\\uff0c\\u9694\\u79bb\\u89c2\\u5bdf\", \"\\u786e\\u8bca|\\u521d\\u7b5b\\u9633\\u6027\\uff0c\\u5e02\\u75be\\u63a7\\u590d\\u6838\\u9633<br>\\u6027\"], \"type\": \"scatter\", \"x\": [\"2020-03-16T00:00:00\", \"2020-03-17T00:00:00\", \"2020-03-19T00:00:00\"], \"y\": [430, 430, 430]}, {\"connectgaps\": true, \"hovertemplate\": \"<br><b>caseID</b>: %{y}<br><br>%{text}\", \"line\": {\"color\": \"rgb(231,107,243)\", \"width\": 2}, \"marker\": {\"color\": [\"rgb(89,130,52)\", \"rgb(137,201,79)\", \"rgb(201,93,58)\"], \"size\": 6}, \"mode\": \"markers+lines\", \"name\": \"431\", \"showlegend\": false, \"text\": [\"\\u5883\\u5916\\u51fa\\u884c|\\u82f1\\u56fd\\u98de\\u8fea\\u62dc(EK0<br>06)\\uff0c\\u8fea\\u62dc\\u98de\\u9999\\u6e2f(EK38<br>0)\", \"\\u5883\\u5185\\u62b5\\u8fbe|\\u62b5\\u8fbe\\u9999\\u6e2f\\uff0c\\u7ecf\\u6df1\\u5733\\u6e7e<br>\\u53e3\\u5cb8\\u5165\\u5883\\uff0c\\u4f53\\u6e29\\u6b63\\u5e38\\uff0c\\u9694\\u79bb\\u89c2\\u5bdf\", \"\\u786e\\u8bca|\\u521d\\u7b5b\\u9633\\u6027\\uff0c\\u6df1\\u5733\\u5e02\\u75be\\u63a7\\u590d<br>\\u6838\\u9633\\u6027\"], \"type\": \"scatter\", \"x\": [\"2020-03-17T00:00:00\", \"2020-03-18T00:00:00\", \"2020-03-19T00:00:00\"], \"y\": [431, 431, 431]}, {\"connectgaps\": true, \"hovertemplate\": \"<br><b>caseID</b>: %{y}<br><br>%{text}\", \"line\": {\"color\": \"rgb(231,107,243)\", \"width\": 2}, \"marker\": {\"color\": [\"rgb(89,130,52)\", \"rgb(137,201,79)\", \"rgb(201,93,58)\"], \"size\": 6}, \"mode\": \"markers+lines\", \"name\": \"432\", \"showlegend\": false, \"text\": [\"\\u5883\\u5916\\u51fa\\u884c|\\u82f1\\u56fd\\u98de\\u8fea\\u62dc(EK0<br>04)\\uff0c\\u8fea\\u62dc\\u98de\\u9999\\u6e2f(EK38<br>0)\", \"\\u5883\\u5185\\u62b5\\u8fbe|\\u62b5\\u8fbe\\u9999\\u6e2f\\uff0c\\u7ecf\\u6df1\\u5733\\u6e7e<br>\\u53e3\\u5cb8\\u5165\\u5883\\uff0c\\u6709\\u53d1\\u70ed(37.5)<br>\\uff0c\\u9001\\u9662\\u3002\", \"\\u786e\\u8bca|\\u521d\\u7b5b\\u9633\\u6027\\uff0c\\u6df1\\u5733\\u5e02\\u75be\\u63a7\\u590d<br>\\u6838\\u9633\\u6027\"], \"type\": \"scatter\", \"x\": [\"2020-03-17T00:00:00\", \"2020-03-18T00:00:00\", \"2020-03-19T00:00:00\"], \"y\": [432, 432, 432]}, {\"connectgaps\": true, \"hovertemplate\": \"<br><b>caseID</b>: %{y}<br><br>%{text}\", \"line\": {\"color\": \"rgb(231,107,243)\", \"width\": 2}, \"marker\": {\"color\": [\"rgb(137,201,79)\", \"rgb(201,93,58)\"], \"size\": 6}, \"mode\": \"markers+lines\", \"name\": \"433\", \"showlegend\": false, \"text\": [\"\\u5883\\u5185\\u62b5\\u8fbe|\\u83f2\\u5f8b\\u5bbe\\u98de\\u9999\\u6e2f(CX<br>930)\\uff0c\\u6df1\\u5733\\u6e7e\\u53e3\\u5cb8\\u5165\\u5883\\uff0c\\u6709<br>\\u53d1\\u70ed(37.5)\\u3002\\u66fe\\u51fa\\u73b0\\u5bd2\\u6218<br>\\u4e4f\\u529b\\u8179\\u6cfb\\u3002(\\u5883\\u5916\\u51fa\\u884c\\uff0c\\u5883\\u5185\\u62b5<br>\\u8fbe\\uff0c\\u53d1\\u75c5\\u540c\\u4e00\\u5929)\", \"\\u786e\\u8bca|\\u521d\\u7b5b\\u53ca\\u590d\\u6838\\u5747\\u9633\\u6027\"], \"type\": \"scatter\", \"x\": [\"2020-03-18T00:00:00\", \"2020-03-20T00:00:00\"], \"y\": [433, 433]}, {\"connectgaps\": true, \"hovertemplate\": \"<br><b>caseID</b>: %{y}<br><br>%{text}\", \"line\": {\"color\": \"rgb(231,107,243)\", \"width\": 2}, \"marker\": {\"color\": [\"rgb(89,130,52)\", \"rgb(89,130,52)\", \"rgb(137,201,79)\", \"rgb(201,93,58)\"], \"size\": 6}, \"mode\": \"markers+lines\", \"name\": \"434\", \"showlegend\": false, \"text\": [\"\\u5883\\u5916\\u51fa\\u884c|\\u82f1\\u56fd\\u98de\\u65b0\\u52a0\\u5761(BA<br>011)\", \"\\u5883\\u5916\\u51fa\\u884c|\\u62b5\\u8fbe\\u65b0\\u52a0\\u5761\", \"\\u5883\\u5185\\u62b5\\u8fbe|\\u65b0\\u52a0\\u5761\\u98de\\u9999\\u6e2f(CX<br>658)\\uff0c\\u5165\\u5883\\u81ea\\u52a8\\u6d4b\\u6e2937.<br>5\\uff0c\\u6c34\\u94f6\\u590d\\u6d4b37.1\", \"\\u786e\\u8bca|\\u521d\\u7b5b\\u590d\\u6838\\u5747\\u9633\\u6027\"], \"type\": \"scatter\", \"x\": [\"2020-03-16T00:00:00\", \"2020-03-17T00:00:00\", \"2020-03-18T00:00:00\", \"2020-03-20T00:00:00\"], \"y\": [434, 434, 434, 434]}, {\"connectgaps\": true, \"hovertemplate\": \"<br><b>caseID</b>: %{y}<br><br>%{text}\", \"line\": {\"color\": \"rgb(231,107,243)\", \"width\": 2}, \"marker\": {\"color\": [\"rgb(89,130,52)\", \"rgb(137,201,79)\", \"rgb(201,93,58)\"], \"size\": 6}, \"mode\": \"markers+lines\", \"name\": \"435\", \"showlegend\": false, \"text\": [\"\\u5883\\u5916\\u51fa\\u884c|\\u82f1\\u56fd\\u98de\\u8fea\\u62dc(EK0<br>04)\\uff0c\\u8fea\\u62dc\\u98de\\u9999\\u6e2f(EK03<br>80)\", \"\\u5883\\u5185\\u62b5\\u8fbe|\\u62b5\\u8fbe\\u9999\\u6e2f\\uff0c\\u7ecf\\u6df1\\u5733\\u6e7e<br>\\u53e3\\u5cb8\\u5165\\u5883\\uff0c\\u968f\\u540e\\u9694\\u79bb\\u89c2\\u5bdf\", \"\\u786e\\u8bca|\\u521d\\u7b5b\\u53ca\\u590d\\u6838\\u9633\\u6027\"], \"type\": \"scatter\", \"x\": [\"2020-03-17T00:00:00\", \"2020-03-18T00:00:00\", \"2020-03-20T00:00:00\"], \"y\": [435, 435, 435]}, {\"connectgaps\": true, \"hovertemplate\": \"<br><b>caseID</b>: %{y}<br><br>%{text}\", \"line\": {\"color\": \"rgb(231,107,243)\", \"width\": 2}, \"marker\": {\"color\": [\"rgb(89,130,52)\", \"rgb(137,201,79)\", \"rgb(201,93,58)\"], \"size\": 6}, \"mode\": \"markers+lines\", \"name\": \"436\", \"showlegend\": false, \"text\": [\"\\u5883\\u5916\\u51fa\\u884c|\\u82f1\\u56fd\\u98de\\u65b0\\u52a0\\u5761(SQ<br>317)\", \"\\u5883\\u5185\\u62b5\\u8fbe|\\u65b0\\u52a0\\u5761\\u98de\\u9999\\u6e2f(SQ<br>856)\\uff0c\\u7ecf\\u8fc7\\u6df1\\u5733\\u6e7e\\u53e3\\u5cb8\\u5165\\u5883<br>\\uff0c\\u81ea\\u8ff0\\u66fe\\u53d1\\u70ed\\uff0c\\u9694\\u79bb\\u89c2\\u5bdf\\u3002\", \"\\u786e\\u8bca|\\u521d\\u7b5b\\u53ca\\u590d\\u67e5\\u5747\\u9633\\u6027\"], \"type\": \"scatter\", \"x\": [\"2020-03-17T00:00:00\", \"2020-03-18T00:00:00\", \"2020-03-20T00:00:00\"], \"y\": [436, 436, 436]}, {\"connectgaps\": true, \"hovertemplate\": \"<br><b>caseID</b>: %{y}<br><br>%{text}\", \"line\": {\"color\": \"rgb(231,107,243)\", \"width\": 2}, \"marker\": {\"color\": [\"rgb(89,130,52)\", \"rgb(137,201,79)\", \"rgb(97,175,223)\", \"rgb(201,93,58)\", \"rgb(201,93,58)\"], \"size\": 6}, \"mode\": \"markers+lines\", \"name\": \"437\", \"showlegend\": false, \"text\": [\"\\u5883\\u5916\\u51fa\\u884c|\\u82f1\\u56fd\\u98de\\u65b0\\u52a0\\u5761(SQ<br>321)\", \"\\u5883\\u5185\\u62b5\\u8fbe|\\u65b0\\u52a0\\u5761\\u98de\\u9999\\u6e2f\\uff0c\\u7ecf\\u6df1<br>\\u5733\\u6e7e\\u53e3\\u5cb8\\u5165\\u5883\\uff0c\\u4f53\\u6e29\\u6b63\\u5e38(SQ<br>856)\", \"\\u53d1\\u75c5|\\u51fa\\u73b0\\u8179\\u6cfb\\u53d1\\u70e7\\u5934\\u75db\", \"\\u786e\\u8bca|\\u6838\\u9178\\u521d\\u7b5b\\u9633\\u6027\", \"\\u786e\\u8bca|\\u590d\\u6838\\u9633\\u6027\"], \"type\": \"scatter\", \"x\": [\"2020-03-16T00:00:00\", \"2020-03-18T00:00:00\", \"2020-03-19T00:00:00\", \"2020-03-20T00:00:00\", \"2020-03-21T00:00:00\"], \"y\": [437, 437, 437, 437, 437]}, {\"connectgaps\": true, \"hovertemplate\": \"<br><b>caseID</b>: %{y}<br><br>%{text}\", \"line\": {\"color\": \"rgb(231,107,243)\", \"width\": 2}, \"marker\": {\"color\": [\"rgb(137,201,79)\", \"rgb(201,93,58)\", \"rgb(201,93,58)\"], \"size\": 6}, \"mode\": \"markers+lines\", \"name\": \"438\", \"showlegend\": false, \"text\": [\"\\u5883\\u5185\\u62b5\\u8fbe|\\u6cf0\\u56fd\\u98de\\u5e7f\\u5dde\\uff0c\\u9001\\u56de\\u6df1<br>\\u5733(TG668)\\uff0c\\u4f53\\u6e29\\u6b63\\u5e38\", \"\\u786e\\u8bca|\\u521d\\u7b5b\\u9633\\u6027\", \"\\u786e\\u8bca|\\u590d\\u6838\\u9633\\u6027\"], \"type\": \"scatter\", \"x\": [\"2020-03-19T00:00:00\", \"2020-03-20T00:00:00\", \"2020-03-21T00:00:00\"], \"y\": [438, 438, 438]}, {\"connectgaps\": true, \"hovertemplate\": \"<br><b>caseID</b>: %{y}<br><br>%{text}\", \"line\": {\"color\": \"rgb(231,107,243)\", \"width\": 2}, \"marker\": {\"color\": [\"rgb(89,130,52)\", \"rgb(137,201,79)\", \"rgb(201,93,58)\"], \"size\": 6}, \"mode\": \"markers+lines\", \"name\": \"439\", \"showlegend\": false, \"text\": [\"\\u5883\\u5916\\u51fa\\u884c|\\u897f\\u73ed\\u7259\\u98de\\u9999\\u6e2f(CX<br>320)\", \"\\u5883\\u5185\\u62b5\\u8fbe|\\u5230\\u8fbe\\u9999\\u6e2f\\u540e\\u4ece\\u6df1\\u5733\\u6e7e<br>\\u53e3\\u5cb8\\u5165\\u5883\\uff0c\\u4f53\\u6e2937.3\\uff0c\\u521d\\u7b5b<br>\\u9633\\u6027\\uff0cCT\\u53cc\\u4e0b\\u80ba\\u708e\\u75c7\", \"\\u786e\\u8bca|\\u591a\\u6b21\\u68c0\\u6d4b\\u590d\\u6838\\u68c0\\u51fa\\u9633\\u6027\"], \"type\": \"scatter\", \"x\": [\"2020-03-10T00:00:00\", \"2020-03-11T00:00:00\", \"2020-03-21T00:00:00\"], \"y\": [439, 439, 439]}, {\"connectgaps\": true, \"hovertemplate\": \"<br><b>caseID</b>: %{y}<br><br>%{text}\", \"line\": {\"color\": \"rgb(231,107,243)\", \"width\": 2}, \"marker\": {\"color\": [\"rgb(89,130,52)\", \"rgb(89,130,52)\", \"rgb(137,201,79)\", \"rgb(201,93,58)\"], \"size\": 6}, \"mode\": \"markers+lines\", \"name\": \"440\", \"showlegend\": false, \"text\": [\"\\u5883\\u5916\\u51fa\\u884c|\\u7f8e\\u56fd\\u98de\\u9999\\u6e2f\", \"\\u5883\\u5916\\u51fa\\u884c|\\u5728\\u9999\\u6e2f\\u9017\\u7559\\u5de5\\u4f5c\", \"\\u5883\\u5185\\u62b5\\u8fbe|\\u9999\\u6e2f\\u7ecf\\u6df1\\u5733\\u6e7e\\u53e3\\u5cb8\\u5165<br>\\u5883\\uff0c\\u4f53\\u6e2937.4\\uff0c\\u590d\\u6d4b37.<br>8\\uff0c\\u81ea\\u8ff0\\u6709\\u808c\\u8089\\u9178\\u75db\\u75c7\\u72b6\\uff0c\\u521d\\u7b5b<br>\\u9633\\u6027\", \"\\u786e\\u8bca|\\u590d\\u6838\\u9633\\u6027\"], \"type\": \"scatter\", \"x\": [\"2020-03-16T00:00:00\", \"2020-03-17T00:00:00\", \"2020-03-22T00:00:00\", \"2020-03-23T00:00:00\"], \"y\": [440, 440, 440, 440]}, {\"connectgaps\": true, \"hovertemplate\": \"<br><b>caseID</b>: %{y}<br><br>%{text}\", \"line\": {\"color\": \"rgb(231,107,243)\", \"width\": 2}, \"marker\": {\"color\": [\"rgb(89,130,52)\", \"rgb(137,201,79)\", \"rgb(201,93,58)\"], \"size\": 6}, \"mode\": \"markers+lines\", \"name\": \"441\", \"showlegend\": false, \"text\": [\"\\u5883\\u5916\\u51fa\\u884c|\\u4f26\\u6566\\u98de\\u65b0\\u52a0\\u5761(SQ<br>305)\", \"\\u5883\\u5185\\u62b5\\u8fbe|\\u65b0\\u52a0\\u5761\\u98de\\u5e7f\\u5dde(CZ<br>3040)\\uff0c\\u4f53\\u6e29\\u6b63\\u5e38\", \"\\u786e\\u8bca|\\u521d\\u7b5b\\u9633\\u6027\\uff0c\\u590d\\u6838\\u9633\\u6027\"], \"type\": \"scatter\", \"x\": [\"2020-03-21T00:00:00\", \"2020-03-22T00:00:00\", \"2020-03-24T00:00:00\"], \"y\": [441, 441, 441]}, {\"connectgaps\": true, \"hovertemplate\": \"<br><b>caseID</b>: %{y}<br><br>%{text}\", \"line\": {\"color\": \"rgb(231,107,243)\", \"width\": 2}, \"marker\": {\"color\": [\"rgb(89,130,52)\", \"rgb(137,201,79)\", \"rgb(201,93,58)\", \"rgb(201,93,58)\"], \"size\": 6}, \"mode\": \"markers+lines\", \"name\": \"442\", \"showlegend\": false, \"text\": [\"\\u5883\\u5916\\u51fa\\u884c|\\u7f8e\\u56fd\\u98de\\u5e7f\\u5dde\", \"\\u5883\\u5185\\u62b5\\u8fbe|\\u5e7f\\u5dde\\u5165\\u5883\\uff0c\\u4f53\\u6e29\\u6b63\\u5e38\", \"\\u786e\\u8bca|\\u521d\\u7b5b\\u9633\\u6027\", \"\\u786e\\u8bca|\\u590d\\u6838\\u9633\\u6027\"], \"type\": \"scatter\", \"x\": [\"2020-03-22T00:00:00\", \"2020-03-23T00:00:00\", \"2020-03-24T00:00:00\", \"2020-03-25T00:00:00\"], \"y\": [442, 442, 442, 442]}, {\"connectgaps\": true, \"hovertemplate\": \"<br><b>caseID</b>: %{y}<br><br>%{text}\", \"line\": {\"color\": \"rgb(231,107,243)\", \"width\": 2}, \"marker\": {\"color\": [\"rgb(89,130,52)\", \"rgb(137,201,79)\", \"rgb(227,93,134)\", \"rgb(227,93,134)\", \"rgb(227,93,134)\", \"rgb(201,93,58)\", \"rgb(201,93,58)\"], \"size\": 6}, \"mode\": \"markers+lines\", \"name\": \"443\", \"showlegend\": false, \"text\": [\"\\u5883\\u5916\\u51fa\\u884c|\\u6cd5\\u56fd\\u98de\\u9999\\u6e2f(AF1<br>88)\", \"\\u5883\\u5185\\u62b5\\u8fbe|\\u9999\\u6e2f\\u7ecf\\u6df1\\u5733\\u6e7e\\u5165\\u5883\\uff0c<br>\\u4f53\\u6e29\\u6b63\\u5e38\", \"\\u4e8b\\u4ef6|\\u8f7b\\u5fae\\u4e0d\\u9002\", \"\\u4e8b\\u4ef6|14\\u5929\\u9694\\u79bb\\u671f\\u7ed3\\u675f\", \"\\u4e8b\\u4ef6|\\u5c31\\u8bca\\uff0c\\u80baCT\\u663e\\u793a\\u7ea4\\u7ef4\\u6761<br>\\u7d22\\u5f71\", \"\\u786e\\u8bca|\\u521d\\u7b5b\\u9633\\u6027\", \"\\u786e\\u8bca|\\u590d\\u6838\\u9633\\u6027\"], \"type\": \"scatter\", \"x\": [\"2020-03-01T00:00:00\", \"2020-03-02T00:00:00\", \"2020-03-11T00:00:00\", \"2020-03-17T00:00:00\", \"2020-03-23T00:00:00\", \"2020-03-24T00:00:00\", \"2020-03-25T00:00:00\"], \"y\": [443, 443, 443, 443, 443, 443, 443]}, {\"connectgaps\": true, \"hovertemplate\": \"<br><b>caseID</b>: %{y}<br><br>%{text}\", \"line\": {\"color\": \"rgb(231,107,243)\", \"width\": 2}, \"marker\": {\"color\": [\"rgb(89,130,52)\", \"rgb(137,201,79)\", \"rgb(97,175,223)\", \"rgb(201,93,58)\"], \"size\": 6}, \"mode\": \"markers+lines\", \"name\": \"444\", \"showlegend\": false, \"text\": [\"\\u5883\\u5916\\u51fa\\u884c|\\u7f8e\\u56fd\\u98de\\u9999\\u6e2f(CX8<br>45)\", \"\\u5883\\u5185\\u62b5\\u8fbe|\\u9999\\u6e2f\\u5230\\u6df1\\u5733\\uff0c\\u5165\\u5883\\u4f53<br>\\u6e2936.2\", \"\\u53d1\\u75c5|\\u53d1\\u70ed\\uff0c\\u54bd\\u75db\\uff0c\\u8f7b\\u5fae\\u6d41\\u9f3b\\u6d95<br>\\uff0c\\u521d\\u7b5b\\u53ef\\u7591\\u9633\\u6027\", \"\\u786e\\u8bca|\\u590d\\u6838\\u9633\\u6027\"], \"type\": \"scatter\", \"x\": [\"2020-03-17T00:00:00\", \"2020-03-18T00:00:00\", \"2020-03-24T00:00:00\", \"2020-03-26T00:00:00\"], \"y\": [444, 444, 444, 444]}],\n",
       "                        {\"autosize\": false, \"height\": 600, \"template\": {\"data\": {\"bar\": [{\"error_x\": {\"color\": \"#2a3f5f\"}, \"error_y\": {\"color\": \"#2a3f5f\"}, \"marker\": {\"line\": {\"color\": \"#E5ECF6\", \"width\": 0.5}}, \"type\": \"bar\"}], \"barpolar\": [{\"marker\": {\"line\": {\"color\": \"#E5ECF6\", \"width\": 0.5}}, \"type\": \"barpolar\"}], \"carpet\": [{\"aaxis\": {\"endlinecolor\": \"#2a3f5f\", \"gridcolor\": \"white\", \"linecolor\": \"white\", \"minorgridcolor\": \"white\", \"startlinecolor\": \"#2a3f5f\"}, \"baxis\": {\"endlinecolor\": \"#2a3f5f\", \"gridcolor\": \"white\", \"linecolor\": \"white\", \"minorgridcolor\": \"white\", \"startlinecolor\": \"#2a3f5f\"}, \"type\": \"carpet\"}], \"choropleth\": [{\"colorbar\": {\"outlinewidth\": 0, \"ticks\": \"\"}, \"type\": \"choropleth\"}], \"contour\": [{\"colorbar\": {\"outlinewidth\": 0, \"ticks\": \"\"}, \"colorscale\": [[0.0, \"#0d0887\"], [0.1111111111111111, \"#46039f\"], [0.2222222222222222, \"#7201a8\"], [0.3333333333333333, \"#9c179e\"], [0.4444444444444444, \"#bd3786\"], [0.5555555555555556, \"#d8576b\"], [0.6666666666666666, \"#ed7953\"], [0.7777777777777778, \"#fb9f3a\"], [0.8888888888888888, \"#fdca26\"], [1.0, \"#f0f921\"]], \"type\": \"contour\"}], \"contourcarpet\": [{\"colorbar\": {\"outlinewidth\": 0, \"ticks\": \"\"}, \"type\": \"contourcarpet\"}], \"heatmap\": [{\"colorbar\": {\"outlinewidth\": 0, \"ticks\": \"\"}, \"colorscale\": [[0.0, \"#0d0887\"], [0.1111111111111111, \"#46039f\"], [0.2222222222222222, \"#7201a8\"], [0.3333333333333333, \"#9c179e\"], [0.4444444444444444, \"#bd3786\"], [0.5555555555555556, \"#d8576b\"], [0.6666666666666666, \"#ed7953\"], [0.7777777777777778, \"#fb9f3a\"], [0.8888888888888888, \"#fdca26\"], [1.0, \"#f0f921\"]], \"type\": \"heatmap\"}], \"heatmapgl\": [{\"colorbar\": {\"outlinewidth\": 0, \"ticks\": \"\"}, \"colorscale\": [[0.0, \"#0d0887\"], [0.1111111111111111, \"#46039f\"], [0.2222222222222222, \"#7201a8\"], [0.3333333333333333, \"#9c179e\"], [0.4444444444444444, \"#bd3786\"], [0.5555555555555556, \"#d8576b\"], [0.6666666666666666, \"#ed7953\"], [0.7777777777777778, \"#fb9f3a\"], [0.8888888888888888, \"#fdca26\"], [1.0, \"#f0f921\"]], \"type\": \"heatmapgl\"}], \"histogram\": [{\"marker\": {\"colorbar\": {\"outlinewidth\": 0, \"ticks\": \"\"}}, \"type\": \"histogram\"}], \"histogram2d\": [{\"colorbar\": {\"outlinewidth\": 0, \"ticks\": \"\"}, \"colorscale\": [[0.0, \"#0d0887\"], [0.1111111111111111, \"#46039f\"], [0.2222222222222222, \"#7201a8\"], [0.3333333333333333, \"#9c179e\"], [0.4444444444444444, \"#bd3786\"], [0.5555555555555556, \"#d8576b\"], [0.6666666666666666, \"#ed7953\"], [0.7777777777777778, \"#fb9f3a\"], [0.8888888888888888, \"#fdca26\"], [1.0, \"#f0f921\"]], \"type\": \"histogram2d\"}], \"histogram2dcontour\": [{\"colorbar\": {\"outlinewidth\": 0, \"ticks\": \"\"}, \"colorscale\": [[0.0, \"#0d0887\"], [0.1111111111111111, \"#46039f\"], [0.2222222222222222, \"#7201a8\"], [0.3333333333333333, \"#9c179e\"], [0.4444444444444444, \"#bd3786\"], [0.5555555555555556, \"#d8576b\"], [0.6666666666666666, \"#ed7953\"], [0.7777777777777778, \"#fb9f3a\"], [0.8888888888888888, \"#fdca26\"], [1.0, \"#f0f921\"]], \"type\": \"histogram2dcontour\"}], \"mesh3d\": [{\"colorbar\": {\"outlinewidth\": 0, \"ticks\": \"\"}, \"type\": \"mesh3d\"}], \"parcoords\": [{\"line\": {\"colorbar\": {\"outlinewidth\": 0, \"ticks\": \"\"}}, \"type\": \"parcoords\"}], \"pie\": [{\"automargin\": true, \"type\": \"pie\"}], \"scatter\": [{\"marker\": {\"colorbar\": {\"outlinewidth\": 0, \"ticks\": \"\"}}, \"type\": \"scatter\"}], \"scatter3d\": [{\"line\": {\"colorbar\": {\"outlinewidth\": 0, \"ticks\": \"\"}}, \"marker\": {\"colorbar\": {\"outlinewidth\": 0, \"ticks\": \"\"}}, \"type\": \"scatter3d\"}], \"scattercarpet\": [{\"marker\": {\"colorbar\": {\"outlinewidth\": 0, \"ticks\": \"\"}}, \"type\": \"scattercarpet\"}], \"scattergeo\": [{\"marker\": {\"colorbar\": {\"outlinewidth\": 0, \"ticks\": \"\"}}, \"type\": \"scattergeo\"}], \"scattergl\": [{\"marker\": {\"colorbar\": {\"outlinewidth\": 0, \"ticks\": \"\"}}, \"type\": \"scattergl\"}], \"scattermapbox\": [{\"marker\": {\"colorbar\": {\"outlinewidth\": 0, \"ticks\": \"\"}}, \"type\": \"scattermapbox\"}], \"scatterpolar\": [{\"marker\": {\"colorbar\": {\"outlinewidth\": 0, \"ticks\": \"\"}}, \"type\": \"scatterpolar\"}], \"scatterpolargl\": [{\"marker\": {\"colorbar\": {\"outlinewidth\": 0, \"ticks\": \"\"}}, \"type\": \"scatterpolargl\"}], \"scatterternary\": [{\"marker\": {\"colorbar\": {\"outlinewidth\": 0, \"ticks\": \"\"}}, \"type\": \"scatterternary\"}], \"surface\": [{\"colorbar\": {\"outlinewidth\": 0, \"ticks\": \"\"}, \"colorscale\": [[0.0, \"#0d0887\"], [0.1111111111111111, \"#46039f\"], [0.2222222222222222, \"#7201a8\"], [0.3333333333333333, \"#9c179e\"], [0.4444444444444444, \"#bd3786\"], [0.5555555555555556, \"#d8576b\"], [0.6666666666666666, \"#ed7953\"], [0.7777777777777778, \"#fb9f3a\"], [0.8888888888888888, \"#fdca26\"], [1.0, \"#f0f921\"]], \"type\": \"surface\"}], \"table\": [{\"cells\": {\"fill\": {\"color\": \"#EBF0F8\"}, \"line\": {\"color\": \"white\"}}, \"header\": {\"fill\": {\"color\": \"#C8D4E3\"}, \"line\": {\"color\": \"white\"}}, \"type\": \"table\"}]}, \"layout\": {\"annotationdefaults\": {\"arrowcolor\": \"#2a3f5f\", \"arrowhead\": 0, \"arrowwidth\": 1}, \"coloraxis\": {\"colorbar\": {\"outlinewidth\": 0, \"ticks\": \"\"}}, \"colorscale\": {\"diverging\": [[0, \"#8e0152\"], [0.1, \"#c51b7d\"], [0.2, \"#de77ae\"], [0.3, \"#f1b6da\"], [0.4, \"#fde0ef\"], [0.5, \"#f7f7f7\"], [0.6, \"#e6f5d0\"], [0.7, \"#b8e186\"], [0.8, \"#7fbc41\"], [0.9, \"#4d9221\"], [1, \"#276419\"]], \"sequential\": [[0.0, \"#0d0887\"], [0.1111111111111111, \"#46039f\"], [0.2222222222222222, \"#7201a8\"], [0.3333333333333333, \"#9c179e\"], [0.4444444444444444, \"#bd3786\"], [0.5555555555555556, \"#d8576b\"], [0.6666666666666666, \"#ed7953\"], [0.7777777777777778, \"#fb9f3a\"], [0.8888888888888888, \"#fdca26\"], [1.0, \"#f0f921\"]], \"sequentialminus\": [[0.0, \"#0d0887\"], [0.1111111111111111, \"#46039f\"], [0.2222222222222222, \"#7201a8\"], [0.3333333333333333, \"#9c179e\"], [0.4444444444444444, \"#bd3786\"], [0.5555555555555556, \"#d8576b\"], [0.6666666666666666, \"#ed7953\"], [0.7777777777777778, \"#fb9f3a\"], [0.8888888888888888, \"#fdca26\"], [1.0, \"#f0f921\"]]}, \"colorway\": [\"#636efa\", \"#EF553B\", \"#00cc96\", \"#ab63fa\", \"#FFA15A\", \"#19d3f3\", \"#FF6692\", \"#B6E880\", \"#FF97FF\", \"#FECB52\"], \"font\": {\"color\": \"#2a3f5f\"}, \"geo\": {\"bgcolor\": \"white\", \"lakecolor\": \"white\", \"landcolor\": \"#E5ECF6\", \"showlakes\": true, \"showland\": true, \"subunitcolor\": \"white\"}, \"hoverlabel\": {\"align\": \"left\"}, \"hovermode\": \"closest\", \"mapbox\": {\"style\": \"light\"}, \"paper_bgcolor\": \"white\", \"plot_bgcolor\": \"#E5ECF6\", \"polar\": {\"angularaxis\": {\"gridcolor\": \"white\", \"linecolor\": \"white\", \"ticks\": \"\"}, \"bgcolor\": \"#E5ECF6\", \"radialaxis\": {\"gridcolor\": \"white\", \"linecolor\": \"white\", \"ticks\": \"\"}}, \"scene\": {\"xaxis\": {\"backgroundcolor\": \"#E5ECF6\", \"gridcolor\": \"white\", \"gridwidth\": 2, \"linecolor\": \"white\", \"showbackground\": true, \"ticks\": \"\", \"zerolinecolor\": \"white\"}, \"yaxis\": {\"backgroundcolor\": \"#E5ECF6\", \"gridcolor\": \"white\", \"gridwidth\": 2, \"linecolor\": \"white\", \"showbackground\": true, \"ticks\": \"\", \"zerolinecolor\": \"white\"}, \"zaxis\": {\"backgroundcolor\": \"#E5ECF6\", \"gridcolor\": \"white\", \"gridwidth\": 2, \"linecolor\": \"white\", \"showbackground\": true, \"ticks\": \"\", \"zerolinecolor\": \"white\"}}, \"shapedefaults\": {\"line\": {\"color\": \"#2a3f5f\"}}, \"ternary\": {\"aaxis\": {\"gridcolor\": \"white\", \"linecolor\": \"white\", \"ticks\": \"\"}, \"baxis\": {\"gridcolor\": \"white\", \"linecolor\": \"white\", \"ticks\": \"\"}, \"bgcolor\": \"#E5ECF6\", \"caxis\": {\"gridcolor\": \"white\", \"linecolor\": \"white\", \"ticks\": \"\"}}, \"title\": {\"x\": 0.05}, \"xaxis\": {\"automargin\": true, \"gridcolor\": \"white\", \"linecolor\": \"white\", \"ticks\": \"\", \"title\": {\"standoff\": 15}, \"zerolinecolor\": \"white\", \"zerolinewidth\": 2}, \"yaxis\": {\"automargin\": true, \"gridcolor\": \"white\", \"linecolor\": \"white\", \"ticks\": \"\", \"title\": {\"standoff\": 15}, \"zerolinecolor\": \"white\", \"zerolinewidth\": 2}}}, \"width\": 700},\n",
       "                        {\"responsive\": true}\n",
       "                    ).then(function(){\n",
       "                            \n",
       "var gd = document.getElementById('55239eef-7909-4b5a-8b28-30af5800a551');\n",
       "var x = new MutationObserver(function (mutations, observer) {{\n",
       "        var display = window.getComputedStyle(gd).display;\n",
       "        if (!display || display === 'none') {{\n",
       "            console.log([gd, 'removed!']);\n",
       "            Plotly.purge(gd);\n",
       "            observer.disconnect();\n",
       "        }}\n",
       "}});\n",
       "\n",
       "// Listen for the removal of the full notebook cells\n",
       "var notebookContainer = gd.closest('#notebook-container');\n",
       "if (notebookContainer) {{\n",
       "    x.observe(notebookContainer, {childList: true});\n",
       "}}\n",
       "\n",
       "// Listen for the clearing of the current output cell\n",
       "var outputEl = gd.closest('.output');\n",
       "if (outputEl) {{\n",
       "    x.observe(outputEl, {childList: true});\n",
       "}}\n",
       "\n",
       "                        })\n",
       "                };\n",
       "                });\n",
       "            </script>\n",
       "        </div>"
      ]
     },
     "metadata": {},
     "output_type": "display_data"
    }
   ],
   "source": [
    "time_point_color = {'境外出行':'rgb(89,130,52)',\n",
    "                    '境内抵达':'rgb(137,201,79)',\n",
    "                    '发病':'rgb(97,175,223)',\n",
    "                    '确诊':'rgb(201,93,58)',\n",
    "                    '事件':'rgb(227,93,134)'}\n",
    "trace_list = []\n",
    "\n",
    "for i in oo.index.tolist(): # every individual\n",
    "    i_way = oo.loc[i,oo.loc[i,:].notnull()]\n",
    "    time_point_list = [i_way.str.split('|')[i][0] for i in i_way.index.tolist()]\n",
    "    notes = i_way.apply(lambda txt: '<br>'.join(textwrap.wrap(str(txt),width=14)))\n",
    "\n",
    "    trace_list.append(\n",
    "        go.Scatter(x=i_way.index.tolist(),\n",
    "                   y=[i]*i_way.shape[0],\n",
    "                   mode='markers+lines',\n",
    "                   marker=dict(color=[time_point_color[time_point] for time_point in time_point_list],\n",
    "                               size=6),\n",
    "                   line=dict(color='rgb(231,107,243)', width=2),\n",
    "                   connectgaps=True,\n",
    "                   showlegend=False,\n",
    "                   hovertemplate=\n",
    "                     '<br><b>caseID</b>: %{y}<br>'+\n",
    "                     '<br>%{text}',\n",
    "                   text=notes,\n",
    "                   name=i)\n",
    "    )\n",
    "\n",
    "fig = go.Figure(trace_list)\n",
    "fig.update_layout(autosize=False, height=600,width=700)\n",
    "fig.show()"
   ]
  },
  {
   "cell_type": "markdown",
   "metadata": {},
   "source": [
    "![demo_graph](demo_result/20200419_境外输入.png)"
   ]
  },
  {
   "cell_type": "code",
   "execution_count": null,
   "metadata": {},
   "outputs": [],
   "source": []
  },
  {
   "cell_type": "code",
   "execution_count": null,
   "metadata": {},
   "outputs": [],
   "source": []
  }
 ],
 "metadata": {
  "kernelspec": {
   "display_name": "Python 3",
   "language": "python",
   "name": "python3"
  },
  "language_info": {
   "codemirror_mode": {
    "name": "ipython",
    "version": 3
   },
   "file_extension": ".py",
   "mimetype": "text/x-python",
   "name": "python",
   "nbconvert_exporter": "python",
   "pygments_lexer": "ipython3",
   "version": "3.7.1"
  }
 },
 "nbformat": 4,
 "nbformat_minor": 4
}
